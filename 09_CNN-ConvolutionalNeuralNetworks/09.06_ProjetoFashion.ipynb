{
 "cells": [
  {
   "cell_type": "code",
   "execution_count": 1,
   "metadata": {
    "colab": {},
    "colab_type": "code",
    "id": "4bQCahYjYdUB"
   },
   "outputs": [
    {
     "name": "stderr",
     "output_type": "stream",
     "text": [
      "C:\\Users\\ricar\\AppData\\Roaming\\Python\\Python37\\site-packages\\requests\\__init__.py:91: RequestsDependencyWarning: urllib3 (1.25.9) or chardet (3.0.4) doesn't match a supported version!\n",
      "  RequestsDependencyWarning)\n",
      "C:\\Users\\ricar\\AppData\\Roaming\\Python\\Python37\\site-packages\\tensorboard\\compat\\tensorflow_stub\\dtypes.py:541: FutureWarning: Passing (type, 1) or '1type' as a synonym of type is deprecated; in a future version of numpy, it will be understood as (type, (1,)) / '(1,)type'.\n",
      "  _np_qint8 = np.dtype([(\"qint8\", np.int8, 1)])\n",
      "C:\\Users\\ricar\\AppData\\Roaming\\Python\\Python37\\site-packages\\tensorboard\\compat\\tensorflow_stub\\dtypes.py:542: FutureWarning: Passing (type, 1) or '1type' as a synonym of type is deprecated; in a future version of numpy, it will be understood as (type, (1,)) / '(1,)type'.\n",
      "  _np_quint8 = np.dtype([(\"quint8\", np.uint8, 1)])\n",
      "C:\\Users\\ricar\\AppData\\Roaming\\Python\\Python37\\site-packages\\tensorboard\\compat\\tensorflow_stub\\dtypes.py:543: FutureWarning: Passing (type, 1) or '1type' as a synonym of type is deprecated; in a future version of numpy, it will be understood as (type, (1,)) / '(1,)type'.\n",
      "  _np_qint16 = np.dtype([(\"qint16\", np.int16, 1)])\n",
      "C:\\Users\\ricar\\AppData\\Roaming\\Python\\Python37\\site-packages\\tensorboard\\compat\\tensorflow_stub\\dtypes.py:544: FutureWarning: Passing (type, 1) or '1type' as a synonym of type is deprecated; in a future version of numpy, it will be understood as (type, (1,)) / '(1,)type'.\n",
      "  _np_quint16 = np.dtype([(\"quint16\", np.uint16, 1)])\n",
      "C:\\Users\\ricar\\AppData\\Roaming\\Python\\Python37\\site-packages\\tensorboard\\compat\\tensorflow_stub\\dtypes.py:545: FutureWarning: Passing (type, 1) or '1type' as a synonym of type is deprecated; in a future version of numpy, it will be understood as (type, (1,)) / '(1,)type'.\n",
      "  _np_qint32 = np.dtype([(\"qint32\", np.int32, 1)])\n",
      "C:\\Users\\ricar\\AppData\\Roaming\\Python\\Python37\\site-packages\\tensorboard\\compat\\tensorflow_stub\\dtypes.py:550: FutureWarning: Passing (type, 1) or '1type' as a synonym of type is deprecated; in a future version of numpy, it will be understood as (type, (1,)) / '(1,)type'.\n",
      "  np_resource = np.dtype([(\"resource\", np.ubyte, 1)])\n"
     ]
    }
   ],
   "source": [
    "import tensorflow\n",
    "from tensorflow import keras\n",
    "import matplotlib.pyplot as plt\n",
    "import numpy as np\n",
    "from tensorflow.keras.models import load_model"
   ]
  },
  {
   "cell_type": "markdown",
   "metadata": {
    "colab_type": "text",
    "id": "f8uuzUjVYvkf"
   },
   "source": [
    "Carregando o dataset"
   ]
  },
  {
   "cell_type": "code",
   "execution_count": 2,
   "metadata": {
    "colab": {},
    "colab_type": "code",
    "id": "QoIys3wMYirH"
   },
   "outputs": [],
   "source": [
    "dataset = keras.datasets.fashion_mnist\n",
    "((imagens_treino, identificacoes_treino), (imagens_teste, identificacoes_teste)) = dataset.load_data()\n"
   ]
  },
  {
   "cell_type": "markdown",
   "metadata": {
    "colab_type": "text",
    "id": "oFr0526ZY5E_"
   },
   "source": [
    "Exploração dos dados"
   ]
  },
  {
   "cell_type": "code",
   "execution_count": 3,
   "metadata": {
    "colab": {
     "base_uri": "https://localhost:8080/",
     "height": 35
    },
    "colab_type": "code",
    "executionInfo": {
     "elapsed": 1479,
     "status": "ok",
     "timestamp": 1545137955774,
     "user": {
      "displayName": "Cássia Sampaio",
      "photoUrl": "https://lh5.googleusercontent.com/-WZZI20Ykt7M/AAAAAAAAAAI/AAAAAAAAAlI/NPtGozqQ-38/s64/photo.jpg",
      "userId": "11135730660253677021"
     },
     "user_tz": 120
    },
    "id": "fPIT36hpYl5A",
    "outputId": "812c2fcc-0c28-431b-91b8-1e64a05f31e8"
   },
   "outputs": [
    {
     "data": {
      "text/plain": [
       "9"
      ]
     },
     "execution_count": 3,
     "metadata": {},
     "output_type": "execute_result"
    }
   ],
   "source": [
    "len(imagens_treino)\n",
    "imagens_treino.shape\n",
    "imagens_teste.shape\n",
    "len(identificacoes_teste)\n",
    "identificacoes_treino.min()\n",
    "identificacoes_treino.max()"
   ]
  },
  {
   "cell_type": "markdown",
   "metadata": {
    "colab_type": "text",
    "id": "yTWqT9DIY-iB"
   },
   "source": [
    "Exibição dos dados"
   ]
  },
  {
   "cell_type": "code",
   "execution_count": 4,
   "metadata": {
    "colab": {
     "base_uri": "https://localhost:8080/",
     "height": 365
    },
    "colab_type": "code",
    "executionInfo": {
     "elapsed": 1699,
     "status": "ok",
     "timestamp": 1545137956003,
     "user": {
      "displayName": "Cássia Sampaio",
      "photoUrl": "https://lh5.googleusercontent.com/-WZZI20Ykt7M/AAAAAAAAAAI/AAAAAAAAAlI/NPtGozqQ-38/s64/photo.jpg",
      "userId": "11135730660253677021"
     },
     "user_tz": 120
    },
    "id": "bGESm49JVahh",
    "outputId": "25be141d-aa74-45fc-da00-f38b9a8f3039"
   },
   "outputs": [
    {
     "data": {
      "text/plain": [
       "<matplotlib.colorbar.Colorbar at 0x24c247151c8>"
      ]
     },
     "execution_count": 4,
     "metadata": {},
     "output_type": "execute_result"
    },
    {
     "data": {
      "image/png": "[encoded data removed]",
      "text/plain": [
       "<Figure size 432x288 with 2 Axes>"
      ]
     },
     "metadata": {
      "needs_background": "light"
     },
     "output_type": "display_data"
    }
   ],
   "source": [
    "total_de_classificacoes = 10\n",
    "nomes_de_classificacoes = ['Camiseta', 'Calça', 'Pullover', \n",
    "                           'Vestido', 'Casaco', 'Sandália', 'Camisa',\n",
    "                           'Tênis', 'Bolsa', 'Bota']\n",
    "\n",
    "plt.imshow(imagens_treino[0])\n",
    "plt.colorbar()"
   ]
  },
  {
   "cell_type": "markdown",
   "metadata": {
    "colab_type": "text",
    "id": "uU6ZySpIcoc5"
   },
   "source": [
    "Normalizando as imagens"
   ]
  },
  {
   "cell_type": "code",
   "execution_count": 5,
   "metadata": {
    "colab": {},
    "colab_type": "code",
    "id": "Ral_hdl9ulGG"
   },
   "outputs": [],
   "source": [
    "imagens_treino = imagens_treino/float(255)"
   ]
  },
  {
   "cell_type": "markdown",
   "metadata": {
    "colab_type": "text",
    "id": "2WABnvOJdCNl"
   },
   "source": [
    "Criando, compilando, treinando e normalizando o modelo"
   ]
  },
  {
   "cell_type": "code",
   "execution_count": 23,
   "metadata": {
    "colab": {
     "base_uri": "https://localhost:8080/",
     "height": 228
    },
    "colab_type": "code",
    "executionInfo": {
     "elapsed": 11713,
     "status": "ok",
     "timestamp": 1545143728581,
     "user": {
      "displayName": "Cássia Sampaio",
      "photoUrl": "https://lh5.googleusercontent.com/-WZZI20Ykt7M/AAAAAAAAAAI/AAAAAAAAAlI/NPtGozqQ-38/s64/photo.jpg",
      "userId": "11135730660253677021"
     },
     "user_tz": 120
    },
    "id": "uFedwlfFc0ii",
    "outputId": "b2115202-893b-4830-d587-5b6608639925"
   },
   "outputs": [
    {
     "name": "stdout",
     "output_type": "stream",
     "text": [
      "Epoch 1/5\n",
      "100/100 [==============================] - 4s 37ms/step - loss: 0.6570 - accuracy: 0.7708 - val_loss: 0.4479 - val_accuracy: 0.8466\n",
      "Epoch 2/5\n",
      "100/100 [==============================] - 1s 5ms/step - loss: 0.4395 - accuracy: 0.8455 - val_loss: 0.4098 - val_accuracy: 0.8517\n",
      "Epoch 3/5\n",
      "100/100 [==============================] - 0s 5ms/step - loss: 0.3918 - accuracy: 0.8599 - val_loss: 0.3806 - val_accuracy: 0.8650\n",
      "Epoch 4/5\n",
      "100/100 [==============================] - 0s 5ms/step - loss: 0.3616 - accuracy: 0.8708 - val_loss: 0.3574 - val_accuracy: 0.8722\n",
      "Epoch 5/5\n",
      "100/100 [==============================] - 0s 5ms/step - loss: 0.3410 - accuracy: 0.8771 - val_loss: 0.3406 - val_accuracy: 0.8764\n"
     ]
    }
   ],
   "source": [
    "'''\n",
    "modelo = keras.Sequential([ \n",
    "    keras.layers.Flatten(input_shape=(28, 28)),\n",
    "    keras.layers.Dense(256, activation=tensorflow.nn.relu),\n",
    "    keras.layers.Dropout(0.2),\n",
    "    keras.layers.Dense(10, activation=tensorflow.nn.softmax)\n",
    "])\n",
    "'''\n",
    "modelo = keras.Sequential()\n",
    "modelo.add(keras.layers.Flatten(input_shape=(28, 28)))\n",
    "modelo.add(keras.layers.Dense(256, activation=tensorflow.nn.relu))\n",
    "modelo.add(keras.layers.Dropout(0.2))\n",
    "modelo.add(keras.layers.Dense(10, activation=tensorflow.nn.softmax))\n",
    "\n",
    "adam = keras.optimizers.Adam(lr=0.002)\n",
    "\n",
    "'''lr\n",
    "learning rate\n",
    "taxa de aprendizado'''\n",
    "\n",
    "parando_cedo = [keras.callbacks.EarlyStopping(monitor='val_loss'),\n",
    "                keras.callbacks.ModelCheckpoint(filepath='melhor_modelo.hdf5',\n",
    "                                               monitor='val_loss', save_best_only=True)]\n",
    "\n",
    "modelo.compile(optimizer=adam, \n",
    "               loss='sparse_categorical_crossentropy',\n",
    "               metrics=['accuracy'])\n",
    "\n",
    "historico = modelo.fit(imagens_treino, identificacoes_treino, \n",
    "                       batch_size = 480,\n",
    "                       epochs=5, validation_split=0.2,\n",
    "                       callbacks=parando_cedo)"
   ]
  },
  {
   "cell_type": "markdown",
   "metadata": {
    "colab_type": "text",
    "id": "sd2k5eXndvza"
   },
   "source": []
  },
  {
   "cell_type": "markdown",
   "metadata": {
    "colab_type": "text",
    "id": "weeyzt2QuDXS"
   },
   "source": [
    "Sumário do modelo"
   ]
  },
  {
   "cell_type": "code",
   "execution_count": 7,
   "metadata": {
    "colab": {
     "base_uri": "https://localhost:8080/",
     "height": 277
    },
    "colab_type": "code",
    "executionInfo": {
     "elapsed": 51783,
     "status": "ok",
     "timestamp": 1545138006111,
     "user": {
      "displayName": "Cássia Sampaio",
      "photoUrl": "https://lh5.googleusercontent.com/-WZZI20Ykt7M/AAAAAAAAAAI/AAAAAAAAAlI/NPtGozqQ-38/s64/photo.jpg",
      "userId": "11135730660253677021"
     },
     "user_tz": 120
    },
    "id": "QLG_CH6Lr2vp",
    "outputId": "cb5ca991-99c3-41e8-d71a-81dedae12cb4"
   },
   "outputs": [
    {
     "name": "stdout",
     "output_type": "stream",
     "text": [
      "Model: \"sequential\"\n",
      "_________________________________________________________________\n",
      "Layer (type)                 Output Shape              Param #   \n",
      "=================================================================\n",
      "flatten (Flatten)            (None, 784)               0         \n",
      "_________________________________________________________________\n",
      "dense (Dense)                (None, 256)               200960    \n",
      "_________________________________________________________________\n",
      "dropout (Dropout)            (None, 256)               0         \n",
      "_________________________________________________________________\n",
      "dense_1 (Dense)              (None, 10)                2570      \n",
      "=================================================================\n",
      "Total params: 203,530\n",
      "Trainable params: 203,530\n",
      "Non-trainable params: 0\n",
      "_________________________________________________________________\n"
     ]
    }
   ],
   "source": [
    "sumario_do_modelo = modelo.summary()"
   ]
  },
  {
   "cell_type": "markdown",
   "metadata": {
    "colab_type": "text",
    "id": "GVuSQg42udch"
   },
   "source": [
    "Pesos da primeira camada Dense"
   ]
  },
  {
   "cell_type": "code",
   "execution_count": 8,
   "metadata": {
    "colab": {
     "base_uri": "https://localhost:8080/",
     "height": 243
    },
    "colab_type": "code",
    "executionInfo": {
     "elapsed": 51780,
     "status": "ok",
     "timestamp": 1545138006114,
     "user": {
      "displayName": "Cássia Sampaio",
      "photoUrl": "https://lh5.googleusercontent.com/-WZZI20Ykt7M/AAAAAAAAAAI/AAAAAAAAAlI/NPtGozqQ-38/s64/photo.jpg",
      "userId": "11135730660253677021"
     },
     "user_tz": 120
    },
    "id": "YRzqJi5gr-ug",
    "outputId": "acb8a25a-268c-4a93-da4c-697b0e6c071b"
   },
   "outputs": [
    {
     "data": {
      "text/plain": [
       "array([[-0.01593192, -0.0044301 ,  0.11271746, ..., -0.00731789,\n",
       "         0.01289009,  0.02671953],\n",
       "       [-0.04684549,  0.00174766,  0.00138339, ...,  0.15513174,\n",
       "         0.00449898, -0.04388044],\n",
       "       [ 0.06050025, -0.22150917,  0.10787048, ...,  0.08605242,\n",
       "         0.08540389, -0.07770816],\n",
       "       ...,\n",
       "       [-0.07372792, -0.00345553,  0.05202617, ..., -0.00757772,\n",
       "         0.0484534 ,  0.04964349],\n",
       "       [ 0.02117362,  0.014618  ,  0.01910472, ...,  0.01026585,\n",
       "        -0.01044672, -0.08051527],\n",
       "       [ 0.01923348,  0.05011455,  0.00411551, ...,  0.06217845,\n",
       "        -0.09615059,  0.07760268]], dtype=float32)"
      ]
     },
     "execution_count": 8,
     "metadata": {},
     "output_type": "execute_result"
    }
   ],
   "source": [
    "pesos_camada_dense = modelo.layers[1].get_weights()[0]\n",
    "pesos_camada_dense"
   ]
  },
  {
   "cell_type": "code",
   "execution_count": 9,
   "metadata": {},
   "outputs": [
    {
     "data": {
      "text/plain": [
       "(256,)"
      ]
     },
     "execution_count": 9,
     "metadata": {},
     "output_type": "execute_result"
    }
   ],
   "source": [
    "vieses_camada_dense = modelo.layers[1].get_weights()[1]\n",
    "vieses_camada_dense.shape"
   ]
  },
  {
   "cell_type": "code",
   "execution_count": 10,
   "metadata": {
    "colab": {
     "base_uri": "https://localhost:8080/",
     "height": 235
    },
    "colab_type": "code",
    "executionInfo": {
     "elapsed": 52970,
     "status": "error",
     "timestamp": 1545138007320,
     "user": {
      "displayName": "Cássia Sampaio",
      "photoUrl": "https://lh5.googleusercontent.com/-WZZI20Ykt7M/AAAAAAAAAAI/AAAAAAAAAlI/NPtGozqQ-38/s64/photo.jpg",
      "userId": "11135730660253677021"
     },
     "user_tz": 120
    },
    "id": "k5vzzzzF-pdh",
    "outputId": "8e285466-cda4-4e6b-c4a2-b2ba77f882d7"
   },
   "outputs": [
    {
     "data": {
      "text/plain": [
       "[array([[0.87294346, 0.7205026 , 0.79605556, ..., 0.57428193, 0.35584494,\n",
       "         0.1379289 ],\n",
       "        [0.5890903 , 0.6737479 , 0.17597461, ..., 0.10444924, 0.86146224,\n",
       "         0.5136328 ],\n",
       "        [0.09867223, 0.68296516, 0.49587867, ..., 0.86205554, 0.06602506,\n",
       "         0.68884075],\n",
       "        ...,\n",
       "        [0.20077509, 0.17331651, 0.6420136 , ..., 0.94608426, 0.7667456 ,\n",
       "         0.62036896],\n",
       "        [0.8540779 , 0.10923059, 0.0649395 , ..., 0.32806113, 0.49737692,\n",
       "         0.16628776],\n",
       "        [0.21480818, 0.46871245, 0.78681254, ..., 0.36929992, 0.43252915,\n",
       "         0.30736285]], dtype=float32),\n",
       " array([-0.0174147 ,  0.14070526,  0.1724096 , -0.01892927,  0.06938812,\n",
       "         0.13642798, -0.13461293,  0.10295968,  0.06215994,  0.02589107,\n",
       "        -0.17625579,  0.15802978,  0.02325771,  0.09373098, -0.01041438,\n",
       "        -0.01839141,  0.2558651 , -0.07528743,  0.05299827,  0.17721063,\n",
       "        -0.07726799, -0.07043689, -0.05452017,  0.03299652, -0.129388  ,\n",
       "        -0.0838875 ,  0.10572403, -0.01291435, -0.09122193, -0.00928238,\n",
       "         0.1605865 ,  0.12027115, -0.01662894,  0.1923273 ,  0.19107027,\n",
       "         0.14077494,  0.05091402,  0.07254152,  0.17021473,  0.05807272,\n",
       "         0.14175153,  0.13287859,  0.15814452,  0.10781477,  0.04136021,\n",
       "         0.16253   ,  0.25646934, -0.08753069,  0.0988261 , -0.01320003,\n",
       "         0.14723346,  0.11669932, -0.01960837,  0.10023567,  0.22831106,\n",
       "        -0.04218199, -0.03828376,  0.00752768,  0.05427855,  0.05457051,\n",
       "         0.0181791 , -0.09205146,  0.25891536, -0.04453515, -0.05911601,\n",
       "         0.17253566, -0.0150798 ,  0.16881841, -0.02106964, -0.01303713,\n",
       "         0.01115021, -0.08783387,  0.19172604, -0.12456773,  0.0835357 ,\n",
       "         0.11482219,  0.16979614,  0.05502248, -0.08742607, -0.1251296 ,\n",
       "         0.07678449,  0.20411506,  0.00949736,  0.22479719, -0.01182699,\n",
       "        -0.02012687,  0.09579707,  0.20448297, -0.01844178,  0.01733086,\n",
       "         0.11909579, -0.10256567, -0.0720876 , -0.06523837,  0.18952325,\n",
       "        -0.00097828, -0.01655116,  0.00036732, -0.01114009,  0.22182189,\n",
       "         0.08811749,  0.04224325,  0.07763403, -0.0079482 ,  0.09029593,\n",
       "        -0.02038215, -0.01289265, -0.07039517,  0.11676978,  0.11722866,\n",
       "         0.06665156, -0.04872963, -0.15230674, -0.01927915,  0.04718805,\n",
       "         0.11347232,  0.24865875,  0.02648352, -0.02319858, -0.03471486,\n",
       "        -0.02368491,  0.04294635,  0.13386033, -0.12700534, -0.01265149,\n",
       "        -0.01673884,  0.10011598,  0.25976938, -0.0219176 ,  0.14225622,\n",
       "         0.14201733, -0.09441758,  0.08103656,  0.10822237,  0.15210693,\n",
       "         0.02041035,  0.14708082,  0.06032614,  0.06874093, -0.00742002,\n",
       "        -0.10085635,  0.11560276, -0.01221763,  0.03889316,  0.11457191,\n",
       "        -0.0206636 ,  0.14412759, -0.02525001,  0.04148938, -0.11647402,\n",
       "         0.13888815, -0.11955889, -0.01041254,  0.11844803,  0.1828716 ,\n",
       "         0.17634645, -0.00080357,  0.16063355,  0.18307555,  0.15892878,\n",
       "         0.11134281, -0.01230375,  0.02655782,  0.11424252,  0.09273784,\n",
       "         0.05306458,  0.12665315, -0.13690972,  0.06893018,  0.04135391,\n",
       "         0.03290474, -0.0472188 ,  0.09550326,  0.08430959,  0.0966557 ,\n",
       "         0.07818402, -0.016505  , -0.01980798,  0.07245392,  0.06307254,\n",
       "        -0.0372727 ,  0.12933661, -0.15796901, -0.00822979,  0.04634575,\n",
       "         0.01219391,  0.00470467,  0.0563063 ,  0.012895  , -0.01685015,\n",
       "        -0.04700109, -0.01634979,  0.10527352,  0.00360306,  0.0835261 ,\n",
       "         0.15089102, -0.02045569,  0.10948217,  0.03002393,  0.00862953,\n",
       "         0.09456138, -0.15744792,  0.0391865 ,  0.03584656, -0.15686965,\n",
       "         0.16976464,  0.13103828, -0.07588855,  0.13701564, -0.04481328,\n",
       "         0.1899997 ,  0.04130438, -0.07649831,  0.097441  ,  0.0814923 ,\n",
       "        -0.11081681,  0.05119298, -0.00718847,  0.10951453,  0.13378766,\n",
       "         0.13604058,  0.16492254,  0.17381951, -0.01173078,  0.12602541,\n",
       "         0.29064497,  0.17045982, -0.00474575, -0.05100365,  0.22960913,\n",
       "         0.0581628 ,  0.01373481,  0.08423949,  0.01789015, -0.03292685,\n",
       "         0.1703392 ,  0.15406694, -0.13790646,  0.06085109, -0.01386136,\n",
       "        -0.01879579, -0.01582118, -0.12788844,  0.10202627, -0.06038401,\n",
       "         0.11092651,  0.01065121,  0.04511552,  0.03886084,  0.0689198 ,\n",
       "         0.13030244,  0.07474939,  0.02563344,  0.12247877,  0.02385499,\n",
       "         0.0507947 ], dtype=float32)]"
      ]
     },
     "execution_count": 10,
     "metadata": {},
     "output_type": "execute_result"
    }
   ],
   "source": [
    "pesos_camada_dense.shape\n",
    "pesos_camada_dense_zerados = np.zeros((784, 256))\n",
    "\n",
    "pesos_camada_dense_aleatorios = np.random.rand(784, 256)\n",
    "\n",
    "'''\n",
    "modelo.layers[1].set_weights(\n",
    "    [pesos_camada_dense_zerados, vieses_camada_dense]\n",
    ")\n",
    "'''\n",
    "\n",
    "modelo.layers[1].set_weights(\n",
    "    [pesos_camada_dense_aleatorios, vieses_camada_dense]\n",
    ")\n",
    "\n",
    "modelo.layers[1].get_weights()\n"
   ]
  },
  {
   "cell_type": "code",
   "execution_count": 11,
   "metadata": {
    "colab": {},
    "colab_type": "code",
    "id": "0nJSiAyI_-3a"
   },
   "outputs": [
    {
     "name": "stdout",
     "output_type": "stream",
     "text": [
      "Epoch 1/5\n",
      "1500/1500 [==============================] - 3s 2ms/step - loss: 71.7465 - accuracy: 0.4148 - val_loss: 10.4198 - val_accuracy: 0.7045\n",
      "Epoch 2/5\n",
      "1500/1500 [==============================] - 2s 2ms/step - loss: 18.6892 - accuracy: 0.6267 - val_loss: 5.6579 - val_accuracy: 0.7502\n",
      "Epoch 3/5\n",
      "1500/1500 [==============================] - 2s 2ms/step - loss: 7.9695 - accuracy: 0.6805 - val_loss: 3.6183 - val_accuracy: 0.7049\n",
      "Epoch 4/5\n",
      "1500/1500 [==============================] - 2s 2ms/step - loss: 4.0285 - accuracy: 0.7091 - val_loss: 2.2369 - val_accuracy: 0.7367\n",
      "Epoch 5/5\n",
      "1500/1500 [==============================] - 3s 2ms/step - loss: 2.1907 - accuracy: 0.7408 - val_loss: 1.5615 - val_accuracy: 0.7601\n"
     ]
    }
   ],
   "source": [
    "modelo.compile(optimizer='adam', \n",
    "               loss='sparse_categorical_crossentropy',\n",
    "               metrics=['accuracy'])\n",
    "\n",
    "historico = modelo.fit(imagens_treino, identificacoes_treino, epochs=5, validation_split=0.2)"
   ]
  },
  {
   "cell_type": "code",
   "execution_count": 12,
   "metadata": {
    "colab": {},
    "colab_type": "code",
    "id": "TqiDVI-aAi9k"
   },
   "outputs": [
    {
     "data": {
      "text/plain": [
       "<matplotlib.legend.Legend at 0x24c2217f5c8>"
      ]
     },
     "execution_count": 12,
     "metadata": {},
     "output_type": "execute_result"
    },
    {
     "data": {
      "image/png": "[encoded data removed]",
      "text/plain": [
       "<Figure size 432x288 with 1 Axes>"
      ]
     },
     "metadata": {
      "needs_background": "light"
     },
     "output_type": "display_data"
    }
   ],
   "source": [
    "plt.plot(historico.history['accuracy'])\n",
    "plt.plot(historico.history['val_accuracy'])\n",
    "plt.title('Acurácia por épocas')\n",
    "plt.xlabel('épocas')\n",
    "plt.ylabel('acurácia')\n",
    "plt.legend(['treino', 'validação'])\n"
   ]
  },
  {
   "cell_type": "code",
   "execution_count": 13,
   "metadata": {
    "colab": {},
    "colab_type": "code",
    "id": "XIYEY-hNEYT7"
   },
   "outputs": [
    {
     "data": {
      "text/plain": [
       "<matplotlib.legend.Legend at 0x24c22193748>"
      ]
     },
     "execution_count": 13,
     "metadata": {},
     "output_type": "execute_result"
    },
    {
     "data": {
      "image/png": "[encoded data removed]",
      "text/plain": [
       "<Figure size 432x288 with 1 Axes>"
      ]
     },
     "metadata": {
      "needs_background": "light"
     },
     "output_type": "display_data"
    }
   ],
   "source": [
    "plt.plot(historico.history['accuracy'])\n",
    "plt.plot(historico.history['val_accuracy'])\n",
    "plt.title('Acurácia por épocas')\n",
    "plt.xlabel('épocas')\n",
    "plt.ylabel('acurácia')\n",
    "plt.legend(['treino', 'validação'])"
   ]
  },
  {
   "cell_type": "code",
   "execution_count": 14,
   "metadata": {
    "colab": {
     "base_uri": "https://localhost:8080/",
     "height": 815
    },
    "colab_type": "code",
    "executionInfo": {
     "elapsed": 597,
     "status": "ok",
     "timestamp": 1545144456753,
     "user": {
      "displayName": "Cássia Sampaio",
      "photoUrl": "https://lh5.googleusercontent.com/-WZZI20Ykt7M/AAAAAAAAAAI/AAAAAAAAAlI/NPtGozqQ-38/s64/photo.jpg",
      "userId": "11135730660253677021"
     },
     "user_tz": 120
    },
    "id": "sELsC7XkFCei",
    "outputId": "1de3e550-e52b-4e0c-fff5-cb1981361c3c"
   },
   "outputs": [
    {
     "data": {
      "text/plain": [
       "{'layers': [{'class_name': 'InputLayer',\n",
       "   'config': {'batch_input_shape': (None, 28, 28),\n",
       "    'dtype': 'float32',\n",
       "    'name': 'flatten_input',\n",
       "    'ragged': False,\n",
       "    'sparse': False}},\n",
       "  {'class_name': 'Flatten',\n",
       "   'config': {'batch_input_shape': (None, 28, 28),\n",
       "    'data_format': 'channels_last',\n",
       "    'dtype': 'float32',\n",
       "    'name': 'flatten',\n",
       "    'trainable': True}},\n",
       "  {'class_name': 'Dense',\n",
       "   'config': {'activation': 'relu',\n",
       "    'activity_regularizer': None,\n",
       "    'bias_constraint': None,\n",
       "    'bias_initializer': {'class_name': 'Zeros', 'config': {}},\n",
       "    'bias_regularizer': None,\n",
       "    'dtype': 'float32',\n",
       "    'kernel_constraint': None,\n",
       "    'kernel_initializer': {'class_name': 'GlorotUniform',\n",
       "     'config': {'seed': None}},\n",
       "    'kernel_regularizer': None,\n",
       "    'name': 'dense',\n",
       "    'trainable': True,\n",
       "    'units': 256,\n",
       "    'use_bias': True}},\n",
       "  {'class_name': 'Dropout',\n",
       "   'config': {'dtype': 'float32',\n",
       "    'name': 'dropout',\n",
       "    'noise_shape': None,\n",
       "    'rate': 0.2,\n",
       "    'seed': None,\n",
       "    'trainable': True}},\n",
       "  {'class_name': 'Dense',\n",
       "   'config': {'activation': 'softmax',\n",
       "    'activity_regularizer': None,\n",
       "    'bias_constraint': None,\n",
       "    'bias_initializer': {'class_name': 'Zeros', 'config': {}},\n",
       "    'bias_regularizer': None,\n",
       "    'dtype': 'float32',\n",
       "    'kernel_constraint': None,\n",
       "    'kernel_initializer': {'class_name': 'GlorotUniform',\n",
       "     'config': {'seed': None}},\n",
       "    'kernel_regularizer': None,\n",
       "    'name': 'dense_1',\n",
       "    'trainable': True,\n",
       "    'units': 10,\n",
       "    'use_bias': True}}],\n",
       " 'name': 'sequential'}"
      ]
     },
     "execution_count": 14,
     "metadata": {},
     "output_type": "execute_result"
    }
   ],
   "source": [
    "modelo.get_config()"
   ]
  },
  {
   "cell_type": "code",
   "execution_count": 15,
   "metadata": {
    "colab": {},
    "colab_type": "code",
    "id": "4S8FoWQ1Ar_x"
   },
   "outputs": [
    {
     "data": {
      "text/plain": [
       "<matplotlib.legend.Legend at 0x24c221933c8>"
      ]
     },
     "execution_count": 15,
     "metadata": {},
     "output_type": "execute_result"
    },
    {
     "data": {
      "image/png": "[encoded data removed]",
      "text/plain": [
       "<Figure size 432x288 with 1 Axes>"
      ]
     },
     "metadata": {
      "needs_background": "light"
     },
     "output_type": "display_data"
    }
   ],
   "source": [
    "plt.plot(historico.history['loss'])\n",
    "plt.plot(historico.history['val_loss'])\n",
    "plt.title('Perda por épocas')\n",
    "plt.xlabel('épocas')\n",
    "plt.ylabel('perda')\n",
    "plt.legend(['treino', 'validação'])"
   ]
  },
  {
   "cell_type": "code",
   "execution_count": 16,
   "metadata": {
    "colab": {},
    "colab_type": "code",
    "id": "Vuve5QcuF4eE"
   },
   "outputs": [
    {
     "data": {
      "text/plain": [
       "(256,)"
      ]
     },
     "execution_count": 16,
     "metadata": {},
     "output_type": "execute_result"
    }
   ],
   "source": [
    "vieses_camada_dense = modelo.layers[1].get_weights()[1]\n",
    "vieses_camada_dense.shape"
   ]
  },
  {
   "cell_type": "code",
   "execution_count": 17,
   "metadata": {
    "colab": {},
    "colab_type": "code",
    "id": "5lEZYFfHHfrx"
   },
   "outputs": [],
   "source": [
    "vieses_camada_dense_zerados = np.zeros((256,))\n",
    "modelo.layers[1].set_weights(\n",
    "    [pesos_camada_dense_aleatorios, vieses_camada_dense_zerados]\n",
    ")"
   ]
  },
  {
   "cell_type": "markdown",
   "metadata": {
    "colab_type": "text",
    "id": "4-RqzS88dgk_"
   },
   "source": [
    "Salvando e carregando o modelo treinado"
   ]
  },
  {
   "cell_type": "code",
   "execution_count": 18,
   "metadata": {
    "colab": {},
    "colab_type": "code",
    "id": "SVjmU41IELzX"
   },
   "outputs": [],
   "source": [
    "modelo.save('modelo.h5')\n",
    "modelo_salvo = load_model('modelo.h5')"
   ]
  },
  {
   "cell_type": "markdown",
   "metadata": {
    "colab_type": "text",
    "id": "SVxHO3opdnMb"
   },
   "source": [
    "Visualizando as acurácias de treino e validação por época"
   ]
  },
  {
   "cell_type": "code",
   "execution_count": 19,
   "metadata": {
    "colab": {},
    "colab_type": "code",
    "id": "pNc0JsWZY1Ie"
   },
   "outputs": [
    {
     "data": {
      "text/plain": [
       "<matplotlib.legend.Legend at 0x24c2231c1c8>"
      ]
     },
     "execution_count": 19,
     "metadata": {},
     "output_type": "execute_result"
    },
    {
     "data": {
      "image/png": "[encoded data removed]",
      "text/plain": [
       "<Figure size 432x288 with 1 Axes>"
      ]
     },
     "metadata": {
      "needs_background": "light"
     },
     "output_type": "display_data"
    }
   ],
   "source": [
    "plt.plot(historico.history['accuracy'])\n",
    "plt.plot(historico.history['val_accuracy'])\n",
    "plt.title('Acurácia por épocas')\n",
    "plt.xlabel('épocas')\n",
    "plt.ylabel('acurácia')\n",
    "plt.legend(['treino', 'validação'])\n"
   ]
  },
  {
   "cell_type": "markdown",
   "metadata": {
    "colab_type": "text",
    "id": "ZKxkWNawdzZh"
   },
   "source": [
    "Visualizando as perdas de treino e validação por época"
   ]
  },
  {
   "cell_type": "code",
   "execution_count": 20,
   "metadata": {
    "colab": {},
    "colab_type": "code",
    "id": "2ugG3Vusg_Va"
   },
   "outputs": [
    {
     "data": {
      "text/plain": [
       "<matplotlib.legend.Legend at 0x24c227a0908>"
      ]
     },
     "execution_count": 20,
     "metadata": {},
     "output_type": "execute_result"
    },
    {
     "data": {
      "image/png": "[encoded data removed]",
      "text/plain": [
       "<Figure size 432x288 with 1 Axes>"
      ]
     },
     "metadata": {
      "needs_background": "light"
     },
     "output_type": "display_data"
    }
   ],
   "source": [
    "plt.plot(historico.history['loss'])\n",
    "plt.plot(historico.history['val_loss'])\n",
    "plt.title('Perda por épocas')\n",
    "plt.xlabel('épocas')\n",
    "plt.ylabel('perda')\n",
    "plt.legend(['treino', 'validação'])"
   ]
  },
  {
   "cell_type": "markdown",
   "metadata": {
    "colab_type": "text",
    "id": "JFXG1oibd8E8"
   },
   "source": [
    "Testando o modelo e o modelo salvo"
   ]
  },
  {
   "cell_type": "code",
   "execution_count": 21,
   "metadata": {
    "colab": {},
    "colab_type": "code",
    "id": "I2kLEHPYUdhd"
   },
   "outputs": [
    {
     "name": "stdout",
     "output_type": "stream",
     "text": [
      "resultado teste: 8\n",
      "número da imagem de teste: 2\n",
      "resultado teste modelo salvo: 8\n",
      "número da imagem de teste: 2\n"
     ]
    }
   ],
   "source": [
    "testes = modelo.predict(imagens_teste)\n",
    "print('resultado teste:', np.argmax(testes[1]))\n",
    "print('número da imagem de teste:', identificacoes_teste[1])\n",
    "\n",
    "testes_modelo_salvo = modelo_salvo.predict(imagens_teste)\n",
    "print('resultado teste modelo salvo:', np.argmax(testes_modelo_salvo[1]))\n",
    "print('número da imagem de teste:', identificacoes_teste[1])"
   ]
  },
  {
   "cell_type": "markdown",
   "metadata": {
    "colab_type": "text",
    "id": "U64QMV1GeCUr"
   },
   "source": [
    "Avaliando o modelo"
   ]
  },
  {
   "cell_type": "code",
   "execution_count": 22,
   "metadata": {
    "colab": {},
    "colab_type": "code",
    "id": "wsbr9WqyXQ2G"
   },
   "outputs": [
    {
     "name": "stdout",
     "output_type": "stream",
     "text": [
      "313/313 [==============================] - 0s 1ms/step - loss: 22063.1133 - accuracy: 0.1000\n",
      "Perda do teste: 22063.11328125\n",
      "Acurácia do teste: 0.10000000149011612\n"
     ]
    }
   ],
   "source": [
    "perda_teste, acuracia_teste = modelo.evaluate(imagens_teste, identificacoes_teste)\n",
    "print('Perda do teste:', perda_teste)\n",
    "print('Acurácia do teste:', acuracia_teste)"
   ]
  }
 ],
 "metadata": {
  "colab": {
   "collapsed_sections": [],
   "name": "Segundo_projeto_aula5.ipynb",
   "provenance": [
    {
     "file_id": "1w-SdjiC3XEAlFe6PaYiFU-NL-c9sGroF",
     "timestamp": 1545061684493
    },
    {
     "file_id": "1XJcYr2kO2iMOxUFklsI8Nov8DHfWaN6F",
     "timestamp": 1545061633428
    },
    {
     "file_id": "1t03BioBUhAKHpvQmooWdnjxgkj-MAF7D",
     "timestamp": 1544203981880
    },
    {
     "file_id": "1-pv9T-KI09_jiMUe4MErOnAHR3IFfjtS",
     "timestamp": 1544114456244
    },
    {
     "file_id": "1Hg5iQPzIw9n7ioWeD9Nv3AnAPFDA0bE_",
     "timestamp": 1538632904381
    }
   ],
   "version": "0.3.2"
  },
  "kernelspec": {
   "display_name": "Python 3",
   "language": "python",
   "name": "python3"
  },
  "language_info": {
   "codemirror_mode": {
    "name": "ipython",
    "version": 3
   },
   "file_extension": ".py",
   "mimetype": "text/x-python",
   "name": "python",
   "nbconvert_exporter": "python",
   "pygments_lexer": "ipython3",
   "version": "3.7.4"
  }
 },
 "nbformat": 4,
 "nbformat_minor": 1
}
