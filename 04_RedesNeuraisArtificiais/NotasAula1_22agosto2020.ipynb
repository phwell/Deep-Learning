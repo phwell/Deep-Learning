{
 "cells": [
  {
   "cell_type": "code",
   "execution_count": 8,
   "metadata": {},
   "outputs": [],
   "source": [
    "# importar bibliotecas\n",
    "import pandas as pd"
   ]
  },
  {
   "cell_type": "code",
   "execution_count": 10,
   "metadata": {},
   "outputs": [],
   "source": [
    "url = \"https://archive.ics.uci.edu/ml/machine-learning-databases/iris/iris.data\""
   ]
  },
  {
   "cell_type": "code",
   "execution_count": 12,
   "metadata": {},
   "outputs": [],
   "source": [
    "nomes = ['sepal-length', 'sepal-width', 'petal-length', 'petal-width', 'Class']"
   ]
  },
  {
   "cell_type": "code",
   "execution_count": 49,
   "metadata": {},
   "outputs": [],
   "source": [
    "dadosIris = pd.read_csv(url, names=nomes)"
   ]
  },
  {
   "cell_type": "code",
   "execution_count": 50,
   "metadata": {},
   "outputs": [
    {
     "data": {
      "text/html": [
       "<div>\n",
       "<style scoped>\n",
       "    .dataframe tbody tr th:only-of-type {\n",
       "        vertical-align: middle;\n",
       "    }\n",
       "\n",
       "    .dataframe tbody tr th {\n",
       "        vertical-align: top;\n",
       "    }\n",
       "\n",
       "    .dataframe thead th {\n",
       "        text-align: right;\n",
       "    }\n",
       "</style>\n",
       "<table border=\"1\" class=\"dataframe\">\n",
       "  <thead>\n",
       "    <tr style=\"text-align: right;\">\n",
       "      <th></th>\n",
       "      <th>sepal-length</th>\n",
       "      <th>sepal-width</th>\n",
       "      <th>petal-length</th>\n",
       "      <th>petal-width</th>\n",
       "      <th>Class</th>\n",
       "    </tr>\n",
       "  </thead>\n",
       "  <tbody>\n",
       "    <tr>\n",
       "      <th>0</th>\n",
       "      <td>5.1</td>\n",
       "      <td>3.5</td>\n",
       "      <td>1.4</td>\n",
       "      <td>0.2</td>\n",
       "      <td>Iris-setosa</td>\n",
       "    </tr>\n",
       "    <tr>\n",
       "      <th>1</th>\n",
       "      <td>4.9</td>\n",
       "      <td>3.0</td>\n",
       "      <td>1.4</td>\n",
       "      <td>0.2</td>\n",
       "      <td>Iris-setosa</td>\n",
       "    </tr>\n",
       "    <tr>\n",
       "      <th>2</th>\n",
       "      <td>4.7</td>\n",
       "      <td>3.2</td>\n",
       "      <td>1.3</td>\n",
       "      <td>0.2</td>\n",
       "      <td>Iris-setosa</td>\n",
       "    </tr>\n",
       "    <tr>\n",
       "      <th>3</th>\n",
       "      <td>4.6</td>\n",
       "      <td>3.1</td>\n",
       "      <td>1.5</td>\n",
       "      <td>0.2</td>\n",
       "      <td>Iris-setosa</td>\n",
       "    </tr>\n",
       "    <tr>\n",
       "      <th>4</th>\n",
       "      <td>5.0</td>\n",
       "      <td>3.6</td>\n",
       "      <td>1.4</td>\n",
       "      <td>0.2</td>\n",
       "      <td>Iris-setosa</td>\n",
       "    </tr>\n",
       "    <tr>\n",
       "      <th>...</th>\n",
       "      <td>...</td>\n",
       "      <td>...</td>\n",
       "      <td>...</td>\n",
       "      <td>...</td>\n",
       "      <td>...</td>\n",
       "    </tr>\n",
       "    <tr>\n",
       "      <th>145</th>\n",
       "      <td>6.7</td>\n",
       "      <td>3.0</td>\n",
       "      <td>5.2</td>\n",
       "      <td>2.3</td>\n",
       "      <td>Iris-virginica</td>\n",
       "    </tr>\n",
       "    <tr>\n",
       "      <th>146</th>\n",
       "      <td>6.3</td>\n",
       "      <td>2.5</td>\n",
       "      <td>5.0</td>\n",
       "      <td>1.9</td>\n",
       "      <td>Iris-virginica</td>\n",
       "    </tr>\n",
       "    <tr>\n",
       "      <th>147</th>\n",
       "      <td>6.5</td>\n",
       "      <td>3.0</td>\n",
       "      <td>5.2</td>\n",
       "      <td>2.0</td>\n",
       "      <td>Iris-virginica</td>\n",
       "    </tr>\n",
       "    <tr>\n",
       "      <th>148</th>\n",
       "      <td>6.2</td>\n",
       "      <td>3.4</td>\n",
       "      <td>5.4</td>\n",
       "      <td>2.3</td>\n",
       "      <td>Iris-virginica</td>\n",
       "    </tr>\n",
       "    <tr>\n",
       "      <th>149</th>\n",
       "      <td>5.9</td>\n",
       "      <td>3.0</td>\n",
       "      <td>5.1</td>\n",
       "      <td>1.8</td>\n",
       "      <td>Iris-virginica</td>\n",
       "    </tr>\n",
       "  </tbody>\n",
       "</table>\n",
       "<p>150 rows × 5 columns</p>\n",
       "</div>"
      ],
      "text/plain": [
       "     sepal-length  sepal-width  petal-length  petal-width           Class\n",
       "0             5.1          3.5           1.4          0.2     Iris-setosa\n",
       "1             4.9          3.0           1.4          0.2     Iris-setosa\n",
       "2             4.7          3.2           1.3          0.2     Iris-setosa\n",
       "3             4.6          3.1           1.5          0.2     Iris-setosa\n",
       "4             5.0          3.6           1.4          0.2     Iris-setosa\n",
       "..            ...          ...           ...          ...             ...\n",
       "145           6.7          3.0           5.2          2.3  Iris-virginica\n",
       "146           6.3          2.5           5.0          1.9  Iris-virginica\n",
       "147           6.5          3.0           5.2          2.0  Iris-virginica\n",
       "148           6.2          3.4           5.4          2.3  Iris-virginica\n",
       "149           5.9          3.0           5.1          1.8  Iris-virginica\n",
       "\n",
       "[150 rows x 5 columns]"
      ]
     },
     "execution_count": 50,
     "metadata": {},
     "output_type": "execute_result"
    }
   ],
   "source": [
    "dadosIris"
   ]
  },
  {
   "cell_type": "code",
   "execution_count": 51,
   "metadata": {},
   "outputs": [
    {
     "data": {
      "text/html": [
       "<div>\n",
       "<style scoped>\n",
       "    .dataframe tbody tr th:only-of-type {\n",
       "        vertical-align: middle;\n",
       "    }\n",
       "\n",
       "    .dataframe tbody tr th {\n",
       "        vertical-align: top;\n",
       "    }\n",
       "\n",
       "    .dataframe thead th {\n",
       "        text-align: right;\n",
       "    }\n",
       "</style>\n",
       "<table border=\"1\" class=\"dataframe\">\n",
       "  <thead>\n",
       "    <tr style=\"text-align: right;\">\n",
       "      <th></th>\n",
       "      <th>sepal-length</th>\n",
       "      <th>sepal-width</th>\n",
       "      <th>petal-length</th>\n",
       "      <th>petal-width</th>\n",
       "      <th>Class</th>\n",
       "    </tr>\n",
       "  </thead>\n",
       "  <tbody>\n",
       "    <tr>\n",
       "      <th>0</th>\n",
       "      <td>5.1</td>\n",
       "      <td>3.5</td>\n",
       "      <td>1.4</td>\n",
       "      <td>0.2</td>\n",
       "      <td>Iris-setosa</td>\n",
       "    </tr>\n",
       "    <tr>\n",
       "      <th>1</th>\n",
       "      <td>4.9</td>\n",
       "      <td>3.0</td>\n",
       "      <td>1.4</td>\n",
       "      <td>0.2</td>\n",
       "      <td>Iris-setosa</td>\n",
       "    </tr>\n",
       "    <tr>\n",
       "      <th>2</th>\n",
       "      <td>4.7</td>\n",
       "      <td>3.2</td>\n",
       "      <td>1.3</td>\n",
       "      <td>0.2</td>\n",
       "      <td>Iris-setosa</td>\n",
       "    </tr>\n",
       "    <tr>\n",
       "      <th>3</th>\n",
       "      <td>4.6</td>\n",
       "      <td>3.1</td>\n",
       "      <td>1.5</td>\n",
       "      <td>0.2</td>\n",
       "      <td>Iris-setosa</td>\n",
       "    </tr>\n",
       "    <tr>\n",
       "      <th>4</th>\n",
       "      <td>5.0</td>\n",
       "      <td>3.6</td>\n",
       "      <td>1.4</td>\n",
       "      <td>0.2</td>\n",
       "      <td>Iris-setosa</td>\n",
       "    </tr>\n",
       "  </tbody>\n",
       "</table>\n",
       "</div>"
      ],
      "text/plain": [
       "   sepal-length  sepal-width  petal-length  petal-width        Class\n",
       "0           5.1          3.5           1.4          0.2  Iris-setosa\n",
       "1           4.9          3.0           1.4          0.2  Iris-setosa\n",
       "2           4.7          3.2           1.3          0.2  Iris-setosa\n",
       "3           4.6          3.1           1.5          0.2  Iris-setosa\n",
       "4           5.0          3.6           1.4          0.2  Iris-setosa"
      ]
     },
     "execution_count": 51,
     "metadata": {},
     "output_type": "execute_result"
    }
   ],
   "source": [
    "dadosIris.head()"
   ]
  },
  {
   "cell_type": "code",
   "execution_count": 52,
   "metadata": {},
   "outputs": [],
   "source": [
    "X = dadosIris.iloc[:, 0:4]\n"
   ]
  },
  {
   "cell_type": "code",
   "execution_count": 53,
   "metadata": {},
   "outputs": [
    {
     "data": {
      "text/html": [
       "<div>\n",
       "<style scoped>\n",
       "    .dataframe tbody tr th:only-of-type {\n",
       "        vertical-align: middle;\n",
       "    }\n",
       "\n",
       "    .dataframe tbody tr th {\n",
       "        vertical-align: top;\n",
       "    }\n",
       "\n",
       "    .dataframe thead th {\n",
       "        text-align: right;\n",
       "    }\n",
       "</style>\n",
       "<table border=\"1\" class=\"dataframe\">\n",
       "  <thead>\n",
       "    <tr style=\"text-align: right;\">\n",
       "      <th></th>\n",
       "      <th>sepal-length</th>\n",
       "      <th>sepal-width</th>\n",
       "      <th>petal-length</th>\n",
       "      <th>petal-width</th>\n",
       "    </tr>\n",
       "  </thead>\n",
       "  <tbody>\n",
       "    <tr>\n",
       "      <th>0</th>\n",
       "      <td>5.1</td>\n",
       "      <td>3.5</td>\n",
       "      <td>1.4</td>\n",
       "      <td>0.2</td>\n",
       "    </tr>\n",
       "    <tr>\n",
       "      <th>1</th>\n",
       "      <td>4.9</td>\n",
       "      <td>3.0</td>\n",
       "      <td>1.4</td>\n",
       "      <td>0.2</td>\n",
       "    </tr>\n",
       "    <tr>\n",
       "      <th>2</th>\n",
       "      <td>4.7</td>\n",
       "      <td>3.2</td>\n",
       "      <td>1.3</td>\n",
       "      <td>0.2</td>\n",
       "    </tr>\n",
       "    <tr>\n",
       "      <th>3</th>\n",
       "      <td>4.6</td>\n",
       "      <td>3.1</td>\n",
       "      <td>1.5</td>\n",
       "      <td>0.2</td>\n",
       "    </tr>\n",
       "    <tr>\n",
       "      <th>4</th>\n",
       "      <td>5.0</td>\n",
       "      <td>3.6</td>\n",
       "      <td>1.4</td>\n",
       "      <td>0.2</td>\n",
       "    </tr>\n",
       "    <tr>\n",
       "      <th>...</th>\n",
       "      <td>...</td>\n",
       "      <td>...</td>\n",
       "      <td>...</td>\n",
       "      <td>...</td>\n",
       "    </tr>\n",
       "    <tr>\n",
       "      <th>145</th>\n",
       "      <td>6.7</td>\n",
       "      <td>3.0</td>\n",
       "      <td>5.2</td>\n",
       "      <td>2.3</td>\n",
       "    </tr>\n",
       "    <tr>\n",
       "      <th>146</th>\n",
       "      <td>6.3</td>\n",
       "      <td>2.5</td>\n",
       "      <td>5.0</td>\n",
       "      <td>1.9</td>\n",
       "    </tr>\n",
       "    <tr>\n",
       "      <th>147</th>\n",
       "      <td>6.5</td>\n",
       "      <td>3.0</td>\n",
       "      <td>5.2</td>\n",
       "      <td>2.0</td>\n",
       "    </tr>\n",
       "    <tr>\n",
       "      <th>148</th>\n",
       "      <td>6.2</td>\n",
       "      <td>3.4</td>\n",
       "      <td>5.4</td>\n",
       "      <td>2.3</td>\n",
       "    </tr>\n",
       "    <tr>\n",
       "      <th>149</th>\n",
       "      <td>5.9</td>\n",
       "      <td>3.0</td>\n",
       "      <td>5.1</td>\n",
       "      <td>1.8</td>\n",
       "    </tr>\n",
       "  </tbody>\n",
       "</table>\n",
       "<p>150 rows × 4 columns</p>\n",
       "</div>"
      ],
      "text/plain": [
       "     sepal-length  sepal-width  petal-length  petal-width\n",
       "0             5.1          3.5           1.4          0.2\n",
       "1             4.9          3.0           1.4          0.2\n",
       "2             4.7          3.2           1.3          0.2\n",
       "3             4.6          3.1           1.5          0.2\n",
       "4             5.0          3.6           1.4          0.2\n",
       "..            ...          ...           ...          ...\n",
       "145           6.7          3.0           5.2          2.3\n",
       "146           6.3          2.5           5.0          1.9\n",
       "147           6.5          3.0           5.2          2.0\n",
       "148           6.2          3.4           5.4          2.3\n",
       "149           5.9          3.0           5.1          1.8\n",
       "\n",
       "[150 rows x 4 columns]"
      ]
     },
     "execution_count": 53,
     "metadata": {},
     "output_type": "execute_result"
    }
   ],
   "source": [
    "X"
   ]
  },
  {
   "cell_type": "code",
   "execution_count": 54,
   "metadata": {},
   "outputs": [],
   "source": [
    "y = dadosIris.select_dtypes(include=[object])"
   ]
  },
  {
   "cell_type": "code",
   "execution_count": 55,
   "metadata": {},
   "outputs": [
    {
     "data": {
      "text/html": [
       "<div>\n",
       "<style scoped>\n",
       "    .dataframe tbody tr th:only-of-type {\n",
       "        vertical-align: middle;\n",
       "    }\n",
       "\n",
       "    .dataframe tbody tr th {\n",
       "        vertical-align: top;\n",
       "    }\n",
       "\n",
       "    .dataframe thead th {\n",
       "        text-align: right;\n",
       "    }\n",
       "</style>\n",
       "<table border=\"1\" class=\"dataframe\">\n",
       "  <thead>\n",
       "    <tr style=\"text-align: right;\">\n",
       "      <th></th>\n",
       "      <th>Class</th>\n",
       "    </tr>\n",
       "  </thead>\n",
       "  <tbody>\n",
       "    <tr>\n",
       "      <th>0</th>\n",
       "      <td>Iris-setosa</td>\n",
       "    </tr>\n",
       "    <tr>\n",
       "      <th>1</th>\n",
       "      <td>Iris-setosa</td>\n",
       "    </tr>\n",
       "    <tr>\n",
       "      <th>2</th>\n",
       "      <td>Iris-setosa</td>\n",
       "    </tr>\n",
       "    <tr>\n",
       "      <th>3</th>\n",
       "      <td>Iris-setosa</td>\n",
       "    </tr>\n",
       "    <tr>\n",
       "      <th>4</th>\n",
       "      <td>Iris-setosa</td>\n",
       "    </tr>\n",
       "    <tr>\n",
       "      <th>...</th>\n",
       "      <td>...</td>\n",
       "    </tr>\n",
       "    <tr>\n",
       "      <th>145</th>\n",
       "      <td>Iris-virginica</td>\n",
       "    </tr>\n",
       "    <tr>\n",
       "      <th>146</th>\n",
       "      <td>Iris-virginica</td>\n",
       "    </tr>\n",
       "    <tr>\n",
       "      <th>147</th>\n",
       "      <td>Iris-virginica</td>\n",
       "    </tr>\n",
       "    <tr>\n",
       "      <th>148</th>\n",
       "      <td>Iris-virginica</td>\n",
       "    </tr>\n",
       "    <tr>\n",
       "      <th>149</th>\n",
       "      <td>Iris-virginica</td>\n",
       "    </tr>\n",
       "  </tbody>\n",
       "</table>\n",
       "<p>150 rows × 1 columns</p>\n",
       "</div>"
      ],
      "text/plain": [
       "              Class\n",
       "0       Iris-setosa\n",
       "1       Iris-setosa\n",
       "2       Iris-setosa\n",
       "3       Iris-setosa\n",
       "4       Iris-setosa\n",
       "..              ...\n",
       "145  Iris-virginica\n",
       "146  Iris-virginica\n",
       "147  Iris-virginica\n",
       "148  Iris-virginica\n",
       "149  Iris-virginica\n",
       "\n",
       "[150 rows x 1 columns]"
      ]
     },
     "execution_count": 55,
     "metadata": {},
     "output_type": "execute_result"
    }
   ],
   "source": [
    "y"
   ]
  },
  {
   "cell_type": "code",
   "execution_count": 56,
   "metadata": {},
   "outputs": [
    {
     "data": {
      "text/html": [
       "<div>\n",
       "<style scoped>\n",
       "    .dataframe tbody tr th:only-of-type {\n",
       "        vertical-align: middle;\n",
       "    }\n",
       "\n",
       "    .dataframe tbody tr th {\n",
       "        vertical-align: top;\n",
       "    }\n",
       "\n",
       "    .dataframe thead th {\n",
       "        text-align: right;\n",
       "    }\n",
       "</style>\n",
       "<table border=\"1\" class=\"dataframe\">\n",
       "  <thead>\n",
       "    <tr style=\"text-align: right;\">\n",
       "      <th></th>\n",
       "      <th>Class</th>\n",
       "    </tr>\n",
       "  </thead>\n",
       "  <tbody>\n",
       "    <tr>\n",
       "      <th>0</th>\n",
       "      <td>Iris-setosa</td>\n",
       "    </tr>\n",
       "    <tr>\n",
       "      <th>1</th>\n",
       "      <td>Iris-setosa</td>\n",
       "    </tr>\n",
       "    <tr>\n",
       "      <th>2</th>\n",
       "      <td>Iris-setosa</td>\n",
       "    </tr>\n",
       "    <tr>\n",
       "      <th>3</th>\n",
       "      <td>Iris-setosa</td>\n",
       "    </tr>\n",
       "    <tr>\n",
       "      <th>4</th>\n",
       "      <td>Iris-setosa</td>\n",
       "    </tr>\n",
       "  </tbody>\n",
       "</table>\n",
       "</div>"
      ],
      "text/plain": [
       "         Class\n",
       "0  Iris-setosa\n",
       "1  Iris-setosa\n",
       "2  Iris-setosa\n",
       "3  Iris-setosa\n",
       "4  Iris-setosa"
      ]
     },
     "execution_count": 56,
     "metadata": {},
     "output_type": "execute_result"
    }
   ],
   "source": [
    "y.head()"
   ]
  },
  {
   "cell_type": "code",
   "execution_count": 31,
   "metadata": {},
   "outputs": [
    {
     "data": {
      "text/plain": [
       "array(['Iris-setosa', 'Iris-versicolor', 'Iris-virginica'], dtype=object)"
      ]
     },
     "execution_count": 31,
     "metadata": {},
     "output_type": "execute_result"
    }
   ],
   "source": [
    "y.Class.unique()"
   ]
  },
  {
   "cell_type": "code",
   "execution_count": 57,
   "metadata": {},
   "outputs": [],
   "source": [
    "from sklearn import preprocessing\n",
    "rotulosCodificados = preprocessing.LabelEncoder()\n",
    "\n",
    "y = y.apply(rotulosCodificados.fit_transform)"
   ]
  },
  {
   "cell_type": "code",
   "execution_count": 58,
   "metadata": {},
   "outputs": [
    {
     "data": {
      "text/html": [
       "<div>\n",
       "<style scoped>\n",
       "    .dataframe tbody tr th:only-of-type {\n",
       "        vertical-align: middle;\n",
       "    }\n",
       "\n",
       "    .dataframe tbody tr th {\n",
       "        vertical-align: top;\n",
       "    }\n",
       "\n",
       "    .dataframe thead th {\n",
       "        text-align: right;\n",
       "    }\n",
       "</style>\n",
       "<table border=\"1\" class=\"dataframe\">\n",
       "  <thead>\n",
       "    <tr style=\"text-align: right;\">\n",
       "      <th></th>\n",
       "      <th>Class</th>\n",
       "    </tr>\n",
       "  </thead>\n",
       "  <tbody>\n",
       "    <tr>\n",
       "      <th>0</th>\n",
       "      <td>0</td>\n",
       "    </tr>\n",
       "    <tr>\n",
       "      <th>1</th>\n",
       "      <td>0</td>\n",
       "    </tr>\n",
       "    <tr>\n",
       "      <th>2</th>\n",
       "      <td>0</td>\n",
       "    </tr>\n",
       "    <tr>\n",
       "      <th>3</th>\n",
       "      <td>0</td>\n",
       "    </tr>\n",
       "    <tr>\n",
       "      <th>4</th>\n",
       "      <td>0</td>\n",
       "    </tr>\n",
       "    <tr>\n",
       "      <th>...</th>\n",
       "      <td>...</td>\n",
       "    </tr>\n",
       "    <tr>\n",
       "      <th>145</th>\n",
       "      <td>2</td>\n",
       "    </tr>\n",
       "    <tr>\n",
       "      <th>146</th>\n",
       "      <td>2</td>\n",
       "    </tr>\n",
       "    <tr>\n",
       "      <th>147</th>\n",
       "      <td>2</td>\n",
       "    </tr>\n",
       "    <tr>\n",
       "      <th>148</th>\n",
       "      <td>2</td>\n",
       "    </tr>\n",
       "    <tr>\n",
       "      <th>149</th>\n",
       "      <td>2</td>\n",
       "    </tr>\n",
       "  </tbody>\n",
       "</table>\n",
       "<p>150 rows × 1 columns</p>\n",
       "</div>"
      ],
      "text/plain": [
       "     Class\n",
       "0        0\n",
       "1        0\n",
       "2        0\n",
       "3        0\n",
       "4        0\n",
       "..     ...\n",
       "145      2\n",
       "146      2\n",
       "147      2\n",
       "148      2\n",
       "149      2\n",
       "\n",
       "[150 rows x 1 columns]"
      ]
     },
     "execution_count": 58,
     "metadata": {},
     "output_type": "execute_result"
    }
   ],
   "source": [
    "y"
   ]
  },
  {
   "cell_type": "code",
   "execution_count": 39,
   "metadata": {},
   "outputs": [
    {
     "data": {
      "text/plain": [
       "array([0, 1, 2])"
      ]
     },
     "execution_count": 39,
     "metadata": {},
     "output_type": "execute_result"
    }
   ],
   "source": [
    "y.Class.unique()"
   ]
  },
  {
   "cell_type": "code",
   "execution_count": 59,
   "metadata": {},
   "outputs": [],
   "source": [
    "# separar dados de treino e teste\n",
    "from sklearn.model_selection import train_test_split\n",
    "\n",
    "X_train, X_test, y_train, y_test = train_test_split(X, y, test_size=0.2, random_state=3)"
   ]
  },
  {
   "cell_type": "code",
   "execution_count": 60,
   "metadata": {},
   "outputs": [
    {
     "data": {
      "text/plain": [
       "StandardScaler()"
      ]
     },
     "execution_count": 60,
     "metadata": {},
     "output_type": "execute_result"
    }
   ],
   "source": [
    "from sklearn.preprocessing import StandardScaler\n",
    "scaler = StandardScaler()\n",
    "scaler.fit(X_train)"
   ]
  },
  {
   "cell_type": "code",
   "execution_count": 61,
   "metadata": {},
   "outputs": [],
   "source": [
    "X_train = scaler.transform(X_train)"
   ]
  },
  {
   "cell_type": "code",
   "execution_count": 63,
   "metadata": {},
   "outputs": [],
   "source": [
    "X_test = scaler.transform(X_test)"
   ]
  },
  {
   "cell_type": "code",
   "execution_count": 65,
   "metadata": {},
   "outputs": [
    {
     "data": {
      "text/plain": [
       "array([[-0.04717658,  2.19102181, -1.46020619, -1.31097023],\n",
       "       [-1.30521861,  0.78501851, -1.06028014, -1.31097023],\n",
       "       [ 1.33666966,  0.08201686,  0.93935012,  1.19659028],\n",
       "       [ 0.95925705, -0.38665091,  0.48229177,  0.14077533],\n",
       "       [-1.80843543, -0.38665091, -1.34594161, -1.31097023],\n",
       "       [-0.8020018 ,  1.01935239, -1.28880931, -1.31097023],\n",
       "       [ 1.08506126, -0.15231702,  0.71082095,  0.6686828 ],\n",
       "       [-1.68263122, -1.79265421, -1.4030739 , -1.17899336],\n",
       "       [ 0.70764865, -0.85531868,  0.88221783,  0.93263654],\n",
       "       [ 0.45604024, -2.02698809,  0.42515948,  0.40472907],\n",
       "       [ 0.70764865, -0.62098479,  1.05361471,  1.19659028],\n",
       "       [-0.04717658, -0.85531868,  0.08236572,  0.00879846],\n",
       "       [-1.55682702,  1.25368628, -1.57447078, -1.31097023],\n",
       "       [-0.927806  ,  1.01935239, -1.34594161, -1.17899336],\n",
       "       [ 0.33023603, -0.15231702,  0.65368865,  0.80065967],\n",
       "       [ 0.70764865,  0.31635074,  0.42515948,  0.40472907],\n",
       "       [-0.927806  ,  0.55068463, -1.17454473, -0.91503963],\n",
       "       [ 0.20443183, -0.85531868,  0.76795324,  0.53670593],\n",
       "       [-0.04717658, -0.85531868,  0.76795324,  0.93263654],\n",
       "       [-0.55039339, -0.15231702,  0.42515948,  0.40472907],\n",
       "       [-1.30521861, -0.15231702, -1.34594161, -1.17899336],\n",
       "       [-1.05361021,  0.31635074, -1.46020619, -1.31097023],\n",
       "       [-0.04717658, -0.85531868,  0.76795324,  0.93263654],\n",
       "       [ 1.46247387,  0.31635074,  0.53942407,  0.2727522 ],\n",
       "       [ 0.33023603, -0.62098479,  0.53942407,  0.00879846],\n",
       "       [-1.17941441,  0.08201686, -1.28880931, -1.4429471 ],\n",
       "       [ 0.58184444,  0.78501851,  1.05361471,  1.59252089],\n",
       "       [-0.927806  ,  1.72235404, -1.28880931, -1.17899336],\n",
       "       [ 0.83345285, -0.15231702,  0.99648241,  0.80065967],\n",
       "       [-0.17298078, -0.38665091,  0.2537626 ,  0.14077533],\n",
       "       [-1.05361021,  1.25368628, -1.34594161, -1.31097023],\n",
       "       [-1.30521861, -0.15231702, -1.34594161, -1.4429471 ],\n",
       "       [ 1.21086546,  0.31635074,  1.22501159,  1.46054402],\n",
       "       [ 0.07862763,  0.31635074,  0.59655636,  0.80065967],\n",
       "       [-0.55039339,  1.48802016, -1.28880931, -1.31097023],\n",
       "       [-1.30521861,  0.78501851, -1.23167702, -1.31097023],\n",
       "       [-0.927806  , -1.32398644, -0.43182492, -0.12317841],\n",
       "       [ 0.70764865,  0.08201686,  0.99648241,  0.80065967],\n",
       "       [ 0.58184444,  0.55068463,  1.28214388,  1.72449776],\n",
       "       [-1.17941441,  0.08201686, -1.28880931, -1.4429471 ],\n",
       "       [ 1.08506126,  0.55068463,  1.110747  ,  1.19659028],\n",
       "       [-0.17298078, -0.15231702,  0.2537626 ,  0.00879846],\n",
       "       [-1.43102282,  0.31635074, -1.23167702, -1.31097023],\n",
       "       [-0.927806  ,  0.78501851, -1.28880931, -1.31097023],\n",
       "       [ 1.96569068, -0.62098479,  1.33927617,  0.93263654],\n",
       "       [ 2.34310329,  1.72235404,  1.68206993,  1.32856715],\n",
       "       [-0.04717658, -0.62098479,  0.76795324,  1.59252089],\n",
       "       [-0.17298078, -0.62098479,  0.19663031,  0.14077533],\n",
       "       [-0.8020018 , -0.85531868,  0.08236572,  0.2727522 ],\n",
       "       [ 0.58184444, -1.79265421,  0.36802719,  0.14077533],\n",
       "       [-0.927806  ,  1.72235404, -1.06028014, -1.0470165 ],\n",
       "       [-0.42458919,  1.01935239, -1.4030739 , -1.31097023],\n",
       "       [ 0.70764865,  0.31635074,  0.88221783,  1.46054402],\n",
       "       [ 1.08506126,  0.55068463,  1.110747  ,  1.72449776],\n",
       "       [ 1.33666966,  0.08201686,  0.65368865,  0.40472907],\n",
       "       [ 1.58827807, -0.15231702,  1.22501159,  1.19659028],\n",
       "       [ 0.07862763, -0.15231702,  0.2537626 ,  0.40472907],\n",
       "       [ 2.34310329, -0.62098479,  1.68206993,  1.06461341],\n",
       "       [-1.30521861,  0.08201686, -1.23167702, -1.31097023],\n",
       "       [ 0.58184444, -0.62098479,  0.76795324,  0.40472907],\n",
       "       [-1.93423963, -0.15231702, -1.51733849, -1.4429471 ],\n",
       "       [-0.17298078, -0.62098479,  0.42515948,  0.14077533],\n",
       "       [ 0.95925705, -0.15231702,  0.36802719,  0.2727522 ],\n",
       "       [ 0.70764865, -0.62098479,  1.05361471,  1.32856715],\n",
       "       [ 0.45604024,  0.78501851,  0.93935012,  1.46054402],\n",
       "       [-0.8020018 ,  2.4253557 , -1.28880931, -1.4429471 ],\n",
       "       [-0.42458919, -1.55832033,  0.02523343, -0.12317841],\n",
       "       [-0.55039339,  1.95668793, -1.4030739 , -1.0470165 ],\n",
       "       [ 0.33023603, -0.15231702,  0.48229177,  0.2727522 ],\n",
       "       [ 0.70764865, -0.38665091,  0.3108949 ,  0.14077533],\n",
       "       [ 0.20443183,  0.78501851,  0.42515948,  0.53670593],\n",
       "       [-1.17941441, -0.15231702, -1.34594161, -1.31097023],\n",
       "       [ 1.71408227,  0.31635074,  1.28214388,  0.80065967],\n",
       "       [-0.927806  ,  1.72235404, -1.23167702, -1.31097023],\n",
       "       [ 1.08506126, -1.32398644,  1.16787929,  0.80065967],\n",
       "       [ 0.33023603, -0.62098479,  0.13949802,  0.14077533],\n",
       "       [ 1.08506126, -0.15231702,  0.82508553,  1.46054402],\n",
       "       [ 0.58184444,  0.55068463,  0.53942407,  0.53670593],\n",
       "       [-0.29878498, -0.62098479,  0.65368865,  1.06461341],\n",
       "       [ 0.33023603, -0.38665091,  0.53942407,  0.2727522 ],\n",
       "       [-0.17298078,  1.72235404, -1.17454473, -1.17899336],\n",
       "       [ 2.21729909, -0.15231702,  1.62493764,  1.19659028],\n",
       "       [-0.29878498, -0.38665091, -0.08903116,  0.14077533],\n",
       "       [ 0.83345285, -0.15231702,  0.82508553,  1.06461341],\n",
       "       [ 0.83345285, -0.62098479,  0.48229177,  0.40472907],\n",
       "       [-0.8020018 ,  0.78501851, -1.34594161, -1.31097023],\n",
       "       [ 0.20443183, -0.38665091,  0.42515948,  0.40472907],\n",
       "       [ 0.58184444, -1.32398644,  0.71082095,  0.93263654],\n",
       "       [-1.05361021,  0.55068463, -1.34594161, -1.31097023],\n",
       "       [-0.29878498, -0.85531868,  0.2537626 ,  0.14077533],\n",
       "       [-0.55039339,  0.78501851, -1.17454473, -1.31097023],\n",
       "       [-1.17941441,  0.08201686, -1.28880931, -1.4429471 ],\n",
       "       [-0.67619759,  1.48802016, -1.28880931, -1.31097023],\n",
       "       [-0.17298078, -1.08965256, -0.14616345, -0.25515528],\n",
       "       [ 0.58184444, -0.85531868,  0.65368865,  0.80065967],\n",
       "       [-0.42458919,  2.65968958, -1.34594161, -1.31097023],\n",
       "       [-1.05361021,  1.01935239, -1.23167702, -0.78306276],\n",
       "       [ 1.33666966,  0.31635074,  1.110747  ,  1.46054402],\n",
       "       [-1.05361021,  0.78501851, -1.28880931, -1.31097023],\n",
       "       [ 0.20443183, -2.02698809,  0.13949802, -0.25515528],\n",
       "       [ 0.07862763, -0.15231702,  0.76795324,  0.80065967],\n",
       "       [ 0.45604024, -0.38665091,  0.3108949 ,  0.14077533],\n",
       "       [ 0.83345285,  0.31635074,  0.76795324,  1.06461341],\n",
       "       [ 0.83345285, -0.15231702,  1.16787929,  1.32856715],\n",
       "       [-0.29878498, -1.32398644,  0.08236572, -0.12317841],\n",
       "       [-0.42458919, -1.08965256,  0.36802719,  0.00879846],\n",
       "       [ 1.71408227, -0.15231702,  1.16787929,  0.53670593],\n",
       "       [-1.05361021, -2.49565586, -0.14616345, -0.25515528],\n",
       "       [-1.43102282,  0.31635074, -1.4030739 , -1.31097023],\n",
       "       [-0.29878498, -0.15231702,  0.42515948,  0.40472907],\n",
       "       [-0.42458919, -1.55832033, -0.03189886, -0.25515528],\n",
       "       [-1.05361021,  0.78501851, -1.23167702, -1.0470165 ],\n",
       "       [-1.05361021, -1.79265421, -0.26042804, -0.25515528],\n",
       "       [ 0.20443183, -2.02698809,  0.71082095,  0.40472907],\n",
       "       [ 0.20443183, -0.15231702,  0.59655636,  0.80065967],\n",
       "       [ 1.83988648, -0.38665091,  1.45354076,  0.80065967],\n",
       "       [-0.927806  ,  1.48802016, -1.28880931, -1.0470165 ],\n",
       "       [-0.927806  ,  1.01935239, -1.34594161, -1.31097023],\n",
       "       [ 2.5947117 ,  1.72235404,  1.51067305,  1.06461341],\n",
       "       [-1.17941441, -1.32398644,  0.42515948,  0.6686828 ]])"
      ]
     },
     "execution_count": 65,
     "metadata": {},
     "output_type": "execute_result"
    }
   ],
   "source": [
    "X_train"
   ]
  },
  {
   "cell_type": "code",
   "execution_count": 66,
   "metadata": {},
   "outputs": [
    {
     "data": {
      "text/plain": [
       "array([[-1.55682702,  0.31635074, -1.34594161, -1.31097023],\n",
       "       [-1.55682702,  0.08201686, -1.28880931, -1.31097023],\n",
       "       [-0.55039339,  0.78501851, -1.28880931, -1.0470165 ],\n",
       "       [-1.05361021, -0.15231702, -1.23167702, -1.31097023],\n",
       "       [-0.17298078,  3.12835735, -1.28880931, -1.0470165 ],\n",
       "       [ 2.34310329, -1.08965256,  1.79633452,  1.46054402],\n",
       "       [-0.42458919, -1.32398644,  0.13949802,  0.14077533],\n",
       "       [-1.55682702,  0.78501851, -1.34594161, -1.17899336],\n",
       "       [ 0.58184444, -0.38665091,  1.05361471,  0.80065967],\n",
       "       [ 1.08506126,  0.08201686,  0.36802719,  0.2727522 ],\n",
       "       [-0.29878498, -0.15231702,  0.19663031,  0.14077533],\n",
       "       [-1.80843543, -0.15231702, -1.4030739 , -1.31097023],\n",
       "       [-0.04717658, -1.08965256,  0.13949802,  0.00879846],\n",
       "       [-0.42458919, -1.79265421,  0.13949802,  0.14077533],\n",
       "       [ 1.08506126,  0.08201686,  1.05361471,  1.59252089],\n",
       "       [-1.05361021,  1.01935239, -1.4030739 , -1.17899336],\n",
       "       [ 0.58184444, -1.32398644,  0.65368865,  0.40472907],\n",
       "       [ 2.34310329, -0.15231702,  1.33927617,  1.46054402],\n",
       "       [-0.17298078, -1.32398644,  0.71082095,  1.06461341],\n",
       "       [-1.80843543,  0.31635074, -1.4030739 , -1.31097023],\n",
       "       [ 0.45604024, -0.62098479,  0.59655636,  0.80065967],\n",
       "       [ 1.21086546, -0.15231702,  0.99648241,  1.19659028],\n",
       "       [ 1.33666966,  0.08201686,  0.76795324,  1.46054402],\n",
       "       [ 1.21086546, -0.62098479,  0.59655636,  0.2727522 ],\n",
       "       [-0.55039339,  1.95668793, -1.17454473, -1.0470165 ],\n",
       "       [ 1.71408227,  1.25368628,  1.33927617,  1.72449776],\n",
       "       [ 0.33023603, -1.08965256,  1.05361471,  0.2727522 ],\n",
       "       [-0.04717658, -0.85531868,  0.19663031, -0.25515528],\n",
       "       [-1.17941441, -1.55832033, -0.26042804, -0.25515528],\n",
       "       [ 1.08506126,  0.08201686,  0.53942407,  0.40472907]])"
      ]
     },
     "execution_count": 66,
     "metadata": {},
     "output_type": "execute_result"
    }
   ],
   "source": [
    "X_test"
   ]
  },
  {
   "cell_type": "code",
   "execution_count": 68,
   "metadata": {},
   "outputs": [],
   "source": [
    "taxa_aprendizagem = 0.01\n",
    "epocas = 100"
   ]
  },
  {
   "cell_type": "code",
   "execution_count": 100,
   "metadata": {},
   "outputs": [],
   "source": [
    "# aplicar o modelo\n",
    "from sklearn.neural_network import MLPClassifier\n",
    "\n",
    "mlp = MLPClassifier(hidden_layer_sizes=(100), max_iter=epocas, \n",
    "                    learning_rate_init=taxa_aprendizagem)"
   ]
  },
  {
   "cell_type": "code",
   "execution_count": 101,
   "metadata": {},
   "outputs": [
    {
     "data": {
      "text/plain": [
       "MLPClassifier(hidden_layer_sizes=100, learning_rate_init=0.1, max_iter=10)"
      ]
     },
     "execution_count": 101,
     "metadata": {},
     "output_type": "execute_result"
    }
   ],
   "source": [
    "mlp"
   ]
  },
  {
   "cell_type": "code",
   "execution_count": 102,
   "metadata": {},
   "outputs": [
    {
     "name": "stderr",
     "output_type": "stream",
     "text": [
      "C:\\ProgramData\\Anaconda3\\lib\\site-packages\\sklearn\\neural_network\\_multilayer_perceptron.py:585: ConvergenceWarning: Stochastic Optimizer: Maximum iterations (10) reached and the optimization hasn't converged yet.\n",
      "  % self.max_iter, ConvergenceWarning)\n"
     ]
    },
    {
     "data": {
      "text/plain": [
       "MLPClassifier(hidden_layer_sizes=100, learning_rate_init=0.1, max_iter=10)"
      ]
     },
     "execution_count": 102,
     "metadata": {},
     "output_type": "execute_result"
    }
   ],
   "source": [
    "# treinar o mdodelo\n",
    "mlp.fit(X_train, y_train.values.ravel())"
   ]
  },
  {
   "cell_type": "code",
   "execution_count": 103,
   "metadata": {},
   "outputs": [],
   "source": [
    "predicoes = mlp.predict(X_test)"
   ]
  },
  {
   "cell_type": "code",
   "execution_count": 104,
   "metadata": {},
   "outputs": [
    {
     "name": "stdout",
     "output_type": "stream",
     "text": [
      "[[10  0  0]\n",
      " [ 0  9  1]\n",
      " [ 0  0 10]]\n",
      "              precision    recall  f1-score   support\n",
      "\n",
      "           0       1.00      1.00      1.00        10\n",
      "           1       1.00      0.90      0.95        10\n",
      "           2       0.91      1.00      0.95        10\n",
      "\n",
      "    accuracy                           0.97        30\n",
      "   macro avg       0.97      0.97      0.97        30\n",
      "weighted avg       0.97      0.97      0.97        30\n",
      "\n"
     ]
    }
   ],
   "source": [
    "# avaliar o resultado\n",
    "\n",
    "from sklearn.metrics import classification_report, confusion_matrix\n",
    "\n",
    "print(confusion_matrix(y_test, predicoes))\n",
    "\n",
    "print(classification_report(y_test, predicoes))"
   ]
  }
 ],
 "metadata": {
  "kernelspec": {
   "display_name": "Python 3.7.4 64-bit ('base': conda)",
   "language": "python",
   "name": "python37464bitbaseconda38167b8c1ef44120b52038489a440cfb"
  },
  "language_info": {
   "codemirror_mode": {
    "name": "ipython",
    "version": 3
   },
   "file_extension": ".py",
   "mimetype": "text/x-python",
   "name": "python",
   "nbconvert_exporter": "python",
   "pygments_lexer": "ipython3",
   "version": "3.7.4"
  }
 },
 "nbformat": 4,
 "nbformat_minor": 4
}
