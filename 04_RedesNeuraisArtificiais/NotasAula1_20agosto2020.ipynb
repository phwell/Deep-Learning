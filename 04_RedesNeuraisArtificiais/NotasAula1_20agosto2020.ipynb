{
 "cells": [
  {
   "cell_type": "markdown",
   "metadata": {},
   "source": [
    "# Colab\n",
    "https://colab.research.google.com/drive/1J1dG-aUE47dwFdpmAzm8BnWIMFwuZ8p6?usp=sharing"
   ]
  },
  {
   "cell_type": "code",
   "execution_count": 3,
   "metadata": {
    "colab": {
     "base_uri": "https://localhost:8080/",
     "height": 302
    },
    "colab_type": "code",
    "id": "24EivAZgb6cw",
    "outputId": "31ad0b47-fc59-4a07-e6f9-d924ca219ae2"
   },
   "outputs": [
    {
     "name": "stdout",
     "output_type": "stream",
     "text": [
      "0.18\n"
     ]
    },
    {
     "data": {
      "image/png": "[encoded data removed]",
      "text/plain": [
       "<Figure size 432x288 with 1 Axes>"
      ]
     },
     "metadata": {
      "needs_background": "light",
      "tags": []
     },
     "output_type": "display_data"
    },
    {
     "data": {
      "text/plain": [
       "<Figure size 432x288 with 0 Axes>"
      ]
     },
     "metadata": {
      "tags": []
     },
     "output_type": "display_data"
    }
   ],
   "source": [
    "!pip install numpy\n",
    "%matplotlib inline\n",
    "import numpy as np\n",
    "import pandas as pd\n",
    "import matplotlib.pyplot as plt\n",
    "import matplotlib\n",
    "from IPython import display\n",
    "\n",
    "# Implementação do perceptron\n",
    "class perceptron(object):\n",
    "\n",
    "    # tol é um limiar para parar \n",
    "    def __init__(self, lrate = 1, w=None, maxiter=3, tol = 0, plot_= False):\n",
    "        self.lrate = lrate\n",
    "        self.maxiter = maxiter\n",
    "        self.tol = tol\n",
    "        self.plot_ = plot_\n",
    "        self.w = w # peso\n",
    "\n",
    "    # atualiza pesos\n",
    "    def __update_w(self, X_train, y_train):\n",
    "        for xi, yi in zip(X_train, y_train):\n",
    "            if int(np.sign(np.dot(xi, self.w.T))) != int(yi):\n",
    "                self.w += (xi.T * self.lrate)*yi\n",
    "\n",
    "    def __eval_perceptron(self, X_train, y_train):\n",
    "        error = 0\n",
    "        miss_indx = []\n",
    "        for xi, yi, i in zip(X_train, y_train, range(len(y_train))):\n",
    "            # multiplica entrada com pesos\n",
    "            # verifica se coincide com o esperado então computa erros\n",
    "            if int(np.sign(np.dot(xi, self.w.T))) != int(yi):\n",
    "                error += 1\n",
    "        return error\n",
    "\n",
    "    def _plot(self, X, y, true_w=None):\n",
    "        a, b = -self.w[1]/self.w[2], -self.w[0]/self.w[2] \n",
    "        l = np.linspace(-1,1)\n",
    "        plt.plot(l, a*l+b, 'green')\n",
    "        cols = {1: 'r', -1: 'b'}\n",
    "\n",
    "        for x,s in zip(X, y):\n",
    "            plt.plot(x[0], x[1], cols[s]+'o')\n",
    "\n",
    "        if not true_w is None:\n",
    "            a, b = -true_w[1]/true_w[2], -true_w[0]/true_w[2] \n",
    "            plt.plot(l, a*l+b, '-k')\n",
    "        plt.show()\n",
    "        plt.clf()\n",
    "        display.display(plt.gcf())\n",
    "        display.clear_output(wait=True)\n",
    "        plt.clf() # limpa a imagem do gráfico\n",
    "    \n",
    "    def fit(self, X_train, y_train):\n",
    "        X_train = np.array(X_train)\n",
    "        X_train = np.insert(X_train, 0, 1, 1) # adiciona vies\n",
    "        y_train = np.array(y_train)\n",
    "\n",
    "        if self.w is None:\n",
    "            # se não tiver peso será definido\n",
    "            self.w = np.random.normal(0, 10, len(X_train[0]))\n",
    "        count = 0\n",
    "        \n",
    "        # loop  infinito\n",
    "        while True: \n",
    "            error = self.__eval_perceptron(X_train, y_train)\n",
    "            self.__update_w(X_train, y_train) # atualiza peso\n",
    "\n",
    "            count += 1\n",
    "            if error < self.tol or count > self.maxiter:\n",
    "                break\n",
    "\n",
    "            if self.plot_:\n",
    "                self._plot(X_train[:, 1:], y_train)\n",
    "\n",
    "    def predict(self, X_test):\n",
    "        X_test = np.insert(X_test, 0, 1, 1)\n",
    "        return np.sign(np.dot(X_test, self.w.T))\n",
    "\n",
    "if __name__ == '__main__':\n",
    "    # gera dados linearmente separáveis em 2D e os dados são randômicos\n",
    "    x1,y1,x2,y2 = [np.random.uniform(-1, 1) for i in range(4)] # define 2 pontos\n",
    "    w_target = np.array([x2*y1-x1*y2, y2-y1, x1-x2]) # gera vetor\n",
    "    a, b = -w_target[1]/w_target[2], -w_target[0]/w_target[2] # para desenhar\n",
    "\n",
    "    X = np.random.uniform(-1, 1, (100, 2)) # gera 100 pontos \n",
    "    y = np.sign(np.dot(np.insert(X, 0, 1, 1), w_target.T)) # gera targets\n",
    "\n",
    "    # usa perceptron para separar os dados\n",
    "    clf = perceptron(maxiter=10, lrate = 0.1, plot_ = True)\n",
    "    clf.fit(X, y)\n",
    "    pred = clf.predict(X)\n",
    "    print(sum(pred != y)/len(y)) # proporção de acertos\n",
    "\n",
    "    # mostra resultados\n",
    "    clf._plot(X, y, true_w = w_target)\n",
    "    \n",
    "%matplotlib notebook   "
   ]
  },
  {
   "cell_type": "code",
   "execution_count": 4,
   "metadata": {
    "colab": {
     "base_uri": "https://localhost:8080/",
     "height": 257
    },
    "colab_type": "code",
    "id": "CyUUlMchdMxa",
    "outputId": "ff832a61-353b-46f6-dced-051d1347e3d4"
   },
   "outputs": [
    {
     "name": "stdout",
     "output_type": "stream",
     "text": [
      "[[ 0 11  0]\n",
      " [ 0 10  0]\n",
      " [ 0  9  0]]\n",
      "              precision    recall  f1-score   support\n",
      "\n",
      "           0       0.00      0.00      0.00        11\n",
      "           1       0.33      1.00      0.50        10\n",
      "           2       0.00      0.00      0.00         9\n",
      "\n",
      "    accuracy                           0.33        30\n",
      "   macro avg       0.11      0.33      0.17        30\n",
      "weighted avg       0.11      0.33      0.17        30\n",
      "\n"
     ]
    }
   ],
   "source": [
    "%matplotlib inline\n",
    "\n",
    "from sklearn import datasets\n",
    "from sklearn.model_selection import train_test_split\n",
    "from sklearn.metrics import classification_report, confusion_matrix\n",
    "import warnings as warn\n",
    "warn.filterwarnings('ignore')\n",
    "\n",
    "iris = datasets.load_iris()\n",
    "XIris = iris.data\n",
    "yIris = iris.target\n",
    "X_train, X_test, y_train, y_test = train_test_split(XIris, yIris, test_size = 0.2)\n",
    "\n",
    "\n",
    "clf = perceptron(maxiter=100, lrate = 0.1, plot_ = False)\n",
    "clf.fit(X_train, y_train) # treino\n",
    "pred = clf.predict(X_test) # predição  e guarda o valor na variável pred\n",
    "    \n",
    "print(confusion_matrix(y_test, pred))\n",
    "print(classification_report(y_test, pred))"
   ]
  },
  {
   "cell_type": "code",
   "execution_count": 26,
   "metadata": {
    "colab": {
     "base_uri": "https://localhost:8080/",
     "height": 312
    },
    "colab_type": "code",
    "id": "h4Nc2YcjdtGm",
    "outputId": "71ce48a8-f382-4fce-cdae-820f024f3672"
   },
   "outputs": [
    {
     "name": "stdout",
     "output_type": "stream",
     "text": [
      "              precision    recall  f1-score   support\n",
      "\n",
      "           0       0.71      1.00      0.83        12\n",
      "           1       1.00      0.44      0.61        16\n",
      "           2       0.81      1.00      0.89        17\n",
      "\n",
      "    accuracy                           0.80        45\n",
      "   macro avg       0.84      0.81      0.78        45\n",
      "weighted avg       0.85      0.80      0.78        45\n",
      "\n",
      "[[12  0  0]\n",
      " [ 5  7  4]\n",
      " [ 0  0 17]]\n",
      "[2 0 1 1 1 2 1 0 0 0 2 1 1 0 0 1 2 0 1 0 1 0 0 1 2 2 0 2 1 0 2 0 0 0 0 2 2\n",
      " 1 0 1 1 0 0 0 2 2 0 0 2 2 1 0 2 1 2 2 2 2 1 0 1 2 2 2 0 2 2 1 2 2 1 0 0 2\n",
      " 0 1 1 1 0 1 0 0 0 1 1 1 0 1 1 1 2 0 2 0 2 2 1 2 0 0 1 1 2 1 0]\n"
     ]
    }
   ],
   "source": [
    "#Perceptron para sklearn\n",
    "\n",
    "# fase 1\n",
    "# importando as bibliotecas\n",
    "from sklearn.linear_model import Perceptron\n",
    "from sklearn import datasets\n",
    "from sklearn.model_selection import train_test_split\n",
    "from sklearn.metrics import classification_report, confusion_matrix\n",
    "# fase 2\n",
    "# instanciar um modelo e neste caso é Perceptron\n",
    "# perceptronSklearn é uma variável que é um objeto\n",
    "perceptronSklearn = Perceptron(random_state=120, max_iter=1000, alpha=0.01)\n",
    "\n",
    "# obter dados\n",
    "datasetIris = datasets.load_iris()\n",
    "entrada_iris = datasetIris.data\n",
    "saida_iris = datasetIris.target\n",
    "\n",
    "# fase divisão treino e teste\n",
    "#X_train  valores de entrada do treinamento\n",
    "#X_test valores entrada de teste\n",
    "#y_train saída/target do treinamento\n",
    "#y_test saída/target de teste\n",
    "X_train, X_test, y_train, y_test = train_test_split(entrada_iris, saida_iris, test_size=0.3, random_state=741)\n",
    "\n",
    "# parte do treinamento\n",
    "# usando dados de treinamento para treinar o perceptron implementado pela biblioteca sklearn\n",
    "perceptronSklearn.fit(X_train, y_train)\n",
    "\n",
    "# para poder realizar a predição  usaremos as entradas de teste\n",
    "predicoes = perceptronSklearn.predict(X_test)\n",
    "\n",
    "# vamos avaliar o resultado\n",
    "print(classification_report(y_test, predicoes))\n",
    "print(confusion_matrix(y_test, predicoes))\n",
    "\n",
    "print(y_train)\n"
   ]
  },
  {
   "cell_type": "code",
   "execution_count": 29,
   "metadata": {
    "colab": {
     "base_uri": "https://localhost:8080/",
     "height": 35
    },
    "colab_type": "code",
    "id": "XirMUa5TnnVw",
    "outputId": "79c18c2b-b363-4b49-dab2-70a0e36b4110"
   },
   "outputs": [
    {
     "name": "stdout",
     "output_type": "stream",
     "text": [
      "resultado  5000\n"
     ]
    }
   ],
   "source": [
    "#linear\n",
    "import numpy as np\n",
    "\n",
    "def funcaoAtivacaoLinear(soma):\n",
    "  return soma\n",
    "\n",
    "resultadoFuncaoLinear = funcaoAtivacaoLinear(5000)\n",
    "\n",
    "print('resultado ', resultadoFuncaoLinear)"
   ]
  },
  {
   "cell_type": "code",
   "execution_count": 33,
   "metadata": {
    "colab": {
     "base_uri": "https://localhost:8080/",
     "height": 54
    },
    "colab_type": "code",
    "id": "_yZQZ_KyoTA_",
    "outputId": "06853648-81c8-4e76-e98b-08082399dd4e"
   },
   "outputs": [
    {
     "name": "stdout",
     "output_type": "stream",
     "text": [
      "[7.0, 2.0, 1.3]\n",
      "[0.99001676 0.00667068 0.00331256]\n"
     ]
    }
   ],
   "source": [
    "# softmax\n",
    "\n",
    "import numpy as np\n",
    "\n",
    "def funcaoAtivacaoSoftmax(lista):\n",
    "  ex = np.exp(lista)\n",
    "  return ex / ex.sum()\n",
    "\n",
    "valores = [7.0, 2.0, 1.3]\n",
    "\n",
    "resultadoFuncaoAtivacaoSoftmax = funcaoAtivacaoSoftmax(valores)\n",
    "\n",
    "print(valores)\n",
    "print(resultadoFuncaoAtivacaoSoftmax)"
   ]
  },
  {
   "cell_type": "code",
   "execution_count": 38,
   "metadata": {
    "colab": {
     "base_uri": "https://localhost:8080/",
     "height": 35
    },
    "colab_type": "code",
    "id": "R0tYLHQqpHmJ",
    "outputId": "3f0efaa1-a098-4807-941d-df821fb886e1"
   },
   "outputs": [
    {
     "name": "stdout",
     "output_type": "stream",
     "text": [
      "1\n"
     ]
    }
   ],
   "source": [
    "# step function\n",
    "\n",
    "import numpy as np\n",
    "\n",
    "def funcaoAtivacaoStepFunction(soma):\n",
    "  if (soma >= 1):\n",
    "    return 1\n",
    "  return 0\n",
    "\n",
    "resultadoFuncaoAtivacaoStepFunction = funcaoAtivacaoStepFunction(5000)\n",
    "\n",
    "print(resultadoFuncaoAtivacaoStepFunction)"
   ]
  },
  {
   "cell_type": "code",
   "execution_count": 42,
   "metadata": {
    "colab": {
     "base_uri": "https://localhost:8080/",
     "height": 35
    },
    "colab_type": "code",
    "id": "zLBA6Qwjpw6w",
    "outputId": "bad7f021-2b59-4ef5-f866-eed65fff6773"
   },
   "outputs": [
    {
     "name": "stdout",
     "output_type": "stream",
     "text": [
      "0.41338242108267\n"
     ]
    }
   ],
   "source": [
    "# sigmoid\n",
    "\n",
    "import numpy as np\n",
    "\n",
    "def funcaoAtivacaoSigmoid(soma):\n",
    "  return 1 / (1+np.exp(-soma))\n",
    "\n",
    "resultadoFuncaoAtivacaoSigmoid = funcaoAtivacaoSigmoid(-0.35)\n",
    "\n",
    "print(resultadoFuncaoAtivacaoSigmoid)"
   ]
  },
  {
   "cell_type": "code",
   "execution_count": 51,
   "metadata": {
    "colab": {
     "base_uri": "https://localhost:8080/",
     "height": 35
    },
    "colab_type": "code",
    "id": "PrxeyaY9qXO1",
    "outputId": "67895d15-e5e2-46c5-f051-6f03f61e88e0"
   },
   "outputs": [
    {
     "name": "stdout",
     "output_type": "stream",
     "text": [
      "-0.3025280449710527\n"
     ]
    }
   ],
   "source": [
    "# tangente hiperbólica\n",
    "\n",
    "import numpy as np\n",
    "\n",
    "def funcaoAtivacaoAtivacaoTangenteHiperbolica(soma):\n",
    "  return (np.exp(soma)-np.exp(-soma))/ (np.exp(soma)+np.exp(-soma))\n",
    "\n",
    "resultadoTah = funcaoAtivacaoAtivacaoTangenteHiperbolica(-0.3123)\n",
    "\n",
    "print(resultadoTah)"
   ]
  },
  {
   "cell_type": "code",
   "execution_count": 52,
   "metadata": {
    "colab": {
     "base_uri": "https://localhost:8080/",
     "height": 35
    },
    "colab_type": "code",
    "id": "OTsRoCOkrM7P",
    "outputId": "f98cba20-61cd-40f7-b109-844c3a8c3b6c"
   },
   "outputs": [
    {
     "name": "stdout",
     "output_type": "stream",
     "text": [
      "0.359\n"
     ]
    }
   ],
   "source": [
    "import numpy as np\n",
    "\n",
    "def relu(soma):\n",
    "  if(soma>=0):\n",
    "    return soma\n",
    "  return 0\n",
    "\n",
    "resultadoRelu =  relu(0.359)\n",
    "\n",
    "print(resultadoRelu)"
   ]
  }
 ],
 "metadata": {
  "colab": {
   "collapsed_sections": [],
   "name": "NotasAula1_20agosto2020.ipynb",
   "provenance": []
  },
  "kernelspec": {
   "display_name": "Python 3.7.4 64-bit ('base': conda)",
   "language": "python",
   "name": "python37464bitbaseconda38167b8c1ef44120b52038489a440cfb"
  },
  "language_info": {
   "codemirror_mode": {
    "name": "ipython",
    "version": 3
   },
   "file_extension": ".py",
   "mimetype": "text/x-python",
   "name": "python",
   "nbconvert_exporter": "python",
   "pygments_lexer": "ipython3",
   "version": "3.7.4"
  }
 },
 "nbformat": 4,
 "nbformat_minor": 1
}
