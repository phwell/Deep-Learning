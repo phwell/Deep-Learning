{
 "cells": [
  {
   "cell_type": "markdown",
   "metadata": {},
   "source": [
    "<img src=\"img\\iris_rna.png\">"
   ]
  },
  {
   "cell_type": "markdown",
   "metadata": {},
   "source": [
    "# Iris com keras"
   ]
  },
  {
   "cell_type": "code",
   "execution_count": null,
   "metadata": {},
   "outputs": [],
   "source": [
    "import pandas as pd\n",
    "from keras.models import Sequential\n",
    "from keras.layers import Dense\n",
    "from keras.utils import np_utils\n",
    "from keras.wrappers.scikit_learn import KerasClassifier\n",
    "from sklearn.model_selection import cross_val_score\n",
    "\n",
    "base = pd.read_csv('iris.csv')\n",
    "previsores = base.iloc[:, 0:4].values\n",
    "classe = base.iloc[:, 4].values\n",
    "from sklearn.preprocessing import LabelEncoder\n",
    "labelencoder = LabelEncoder()\n",
    "classe = labelencoder.fit_transform(classe)\n",
    "classe_dummy = np_utils.to_categorical(classe)\n",
    "\n",
    "def criar_rede():\n",
    "    classificador = Sequential()\n",
    "    classificador.add(Dense(units = 4, activation = 'relu', input_dim = 4))\n",
    "    classificador.add(Dense(units = 4, activation = 'relu'))\n",
    "    classificador.add(Dense(units = 3, activation = 'softmax'))\n",
    "    classificador.compile(optimizer = 'adam', loss = 'categorical_crossentropy',\n",
    "                          metrics = ['categorical_accuracy'])\n",
    "    return classificador\n",
    "\n",
    "classificador = KerasClassifier(build_fn = criar_rede,\n",
    "                                epochs = 1000,\n",
    "                                batch_size = 10)\n",
    "resultados = cross_val_score(estimator = classificador,\n",
    "                             X = previsores, y = classe,\n",
    "                             cv = 10, scoring = 'accuracy')\n",
    "media = resultados.mean()\n",
    "desvio = resultados.std()"
   ]
  },
  {
   "cell_type": "markdown",
   "metadata": {},
   "source": [
    "# Iris - Salvando e Carregando o modelo"
   ]
  },
  {
   "cell_type": "code",
   "execution_count": null,
   "metadata": {},
   "outputs": [],
   "source": [
    "import pandas as pd\n",
    "import numpy as np\n",
    "from keras.models import Sequential\n",
    "from keras.layers import Dense, Dropout\n",
    "from keras.utils import np_utils\n",
    "from sklearn.preprocessing import LabelEncoder\n",
    "from keras.models import model_from_json\n",
    "\n",
    "# Carregamento e tratamento da base de dados\n",
    "base = pd.read_csv('iris.csv')\n",
    "previsores = base.iloc[:, 0:4].values\n",
    "classe = base.iloc[:, 4].values\n",
    "labelencoder = LabelEncoder()\n",
    "classe = labelencoder.fit_transform(classe)\n",
    "classe_dummy = np_utils.to_categorical(classe)\n",
    "\n",
    "# Criação da estrutura da rede neural e treinamento\n",
    "classificador = Sequential()\n",
    "classificador.add(Dense(units = 8, activation = 'relu', \n",
    "                        kernel_initializer = 'normal', input_dim = 4))\n",
    "classificador.add(Dropout(0.1))\n",
    "classificador.add(Dense(units = 8, activation = 'relu', \n",
    "                        kernel_initializer = 'normal'))\n",
    "classificador.add(Dropout(0.1))\n",
    "classificador.add(Dense(units = 3, activation = 'softmax'))\n",
    "classificador.compile(optimizer = 'adam', \n",
    "                      loss = 'categorical_crossentropy', \n",
    "                      metrics = ['accuracy'])\n",
    "classificador.fit(previsores, classe_dummy, \n",
    "                  batch_size = 10, epochs = 2000)\n",
    "\n",
    "# Salvar o classificador\n",
    "classificador_json = classificador.to_json()\n",
    "with open(\"classificador_iris.json\", \"w\") as json_file:\n",
    "    json_file.write(classificador_json)\n",
    "classificador.save_weights(\"classificador_iris.h5\")\n",
    "\n",
    "# Carregar o classificador\n",
    "arquivo = open('classificador_iris.json', 'r')\n",
    "estrutura_classificador = arquivo.read()\n",
    "arquivo.close()\n",
    "classificador_carregado = model_from_json(estrutura_classificador)\n",
    "classificador_carregado.load_weights(\"classificador_iris.h5\")\n",
    "\n",
    "# Criar e classificar novo registro\n",
    "novo = np.array([[3.2, 4.5, 0.9, 1.1]])\n",
    "previsao = classificador.predict(novo)\n",
    "previsao = (previsao > 0.5)\n",
    "if previsao[0][0] == True and previsao[0][1] == False and previsao[0][2] == False:\n",
    "    print('Iris setosa')\n",
    "elif previsao[0][0] == False and previsao[0][1] == True and previsao[0][2] == False:\n",
    "    print('Iris virginica')\n",
    "elif previsao[0][0] == False and previsao[0][1] == False and previsao[0][2] == True:\n",
    "    print('Iris versicolor')"
   ]
  },
  {
   "cell_type": "markdown",
   "metadata": {},
   "source": [
    "# Iris - Otimizando hiperparâmetro"
   ]
  },
  {
   "cell_type": "code",
   "execution_count": null,
   "metadata": {},
   "outputs": [],
   "source": [
    "import pandas as pd\n",
    "from keras.models import Sequential\n",
    "from keras.layers import Dense, Dropout\n",
    "from keras.wrappers.scikit_learn import KerasClassifier\n",
    "from sklearn.model_selection import GridSearchCV\n",
    "\n",
    "base = pd.read_csv('iris.csv')\n",
    "previsores = base.iloc[:, 0:4].values\n",
    "classe = base.iloc[:, 4].values\n",
    "from sklearn.preprocessing import LabelEncoder\n",
    "labelencoder = LabelEncoder()\n",
    "classe = labelencoder.fit_transform(classe)\n",
    "\n",
    "def criar_rede(optimizer, kernel_initializer, activation, neurons, dropout):\n",
    "    classificador = Sequential()\n",
    "    classificador.add(Dense(units = neurons, activation = activation, \n",
    "                            kernel_initializer = kernel_initializer, input_dim = 4))\n",
    "    classificador.add(Dropout(dropout))\n",
    "    classificador.add(Dense(units = neurons, activation = activation, \n",
    "                            kernel_initializer = kernel_initializer))\n",
    "    classificador.add(Dropout(dropout))\n",
    "    classificador.add(Dense(units = 3, activation = 'softmax'))\n",
    "    classificador.compile(optimizer = optimizer, \n",
    "                          loss = 'sparse_categorical_crossentropy', \n",
    "                          metrics = ['accuracy'])\n",
    "    return classificador\n",
    "\n",
    "classificador = KerasClassifier(build_fn = criar_rede)\n",
    "parametros = {'batch_size': [10, 30],\n",
    "              'epochs': [2000, 3000],\n",
    "              'dropout': [0.2, 0.3],\n",
    "              'optimizer': ['adam', 'sgd'],\n",
    "              'kernel_initializer': ['random_uniform', 'normal'],\n",
    "              'activation': ['relu', 'tanh', 'sigmoid'],\n",
    "              'neurons': [4, 8, 16]}\n",
    "grid_search = GridSearchCV(estimator = classificador,\n",
    "                           param_grid = parametros,                           \n",
    "                           cv = 2)\n",
    "grid_search = grid_search.fit(previsores, classe)\n",
    "melhores_parametros = grid_search.best_params_\n",
    "melhor_precisao = grid_search.best_score_\n"
   ]
  }
 ],
 "metadata": {
  "kernelspec": {
   "display_name": "Python 3",
   "language": "python",
   "name": "python3"
  },
  "language_info": {
   "codemirror_mode": {
    "name": "ipython",
    "version": 3
   },
   "file_extension": ".py",
   "mimetype": "text/x-python",
   "name": "python",
   "nbconvert_exporter": "python",
   "pygments_lexer": "ipython3",
   "version": "3.7.4"
  }
 },
 "nbformat": 4,
 "nbformat_minor": 4
}
