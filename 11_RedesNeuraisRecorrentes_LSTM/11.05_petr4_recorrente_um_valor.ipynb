{
 "cells": [
  {
   "cell_type": "code",
   "execution_count": 1,
   "metadata": {},
   "outputs": [
    {
     "name": "stderr",
     "output_type": "stream",
     "text": [
      "C:\\Users\\ricar\\AppData\\Roaming\\Python\\Python37\\site-packages\\requests\\__init__.py:91: RequestsDependencyWarning: urllib3 (1.25.9) or chardet (3.0.4) doesn't match a supported version!\n",
      "  RequestsDependencyWarning)\n",
      "C:\\Users\\ricar\\AppData\\Roaming\\Python\\Python37\\site-packages\\tensorboard\\compat\\tensorflow_stub\\dtypes.py:541: FutureWarning: Passing (type, 1) or '1type' as a synonym of type is deprecated; in a future version of numpy, it will be understood as (type, (1,)) / '(1,)type'.\n",
      "  _np_qint8 = np.dtype([(\"qint8\", np.int8, 1)])\n",
      "C:\\Users\\ricar\\AppData\\Roaming\\Python\\Python37\\site-packages\\tensorboard\\compat\\tensorflow_stub\\dtypes.py:542: FutureWarning: Passing (type, 1) or '1type' as a synonym of type is deprecated; in a future version of numpy, it will be understood as (type, (1,)) / '(1,)type'.\n",
      "  _np_quint8 = np.dtype([(\"quint8\", np.uint8, 1)])\n",
      "C:\\Users\\ricar\\AppData\\Roaming\\Python\\Python37\\site-packages\\tensorboard\\compat\\tensorflow_stub\\dtypes.py:543: FutureWarning: Passing (type, 1) or '1type' as a synonym of type is deprecated; in a future version of numpy, it will be understood as (type, (1,)) / '(1,)type'.\n",
      "  _np_qint16 = np.dtype([(\"qint16\", np.int16, 1)])\n",
      "C:\\Users\\ricar\\AppData\\Roaming\\Python\\Python37\\site-packages\\tensorboard\\compat\\tensorflow_stub\\dtypes.py:544: FutureWarning: Passing (type, 1) or '1type' as a synonym of type is deprecated; in a future version of numpy, it will be understood as (type, (1,)) / '(1,)type'.\n",
      "  _np_quint16 = np.dtype([(\"quint16\", np.uint16, 1)])\n",
      "C:\\Users\\ricar\\AppData\\Roaming\\Python\\Python37\\site-packages\\tensorboard\\compat\\tensorflow_stub\\dtypes.py:545: FutureWarning: Passing (type, 1) or '1type' as a synonym of type is deprecated; in a future version of numpy, it will be understood as (type, (1,)) / '(1,)type'.\n",
      "  _np_qint32 = np.dtype([(\"qint32\", np.int32, 1)])\n",
      "C:\\Users\\ricar\\AppData\\Roaming\\Python\\Python37\\site-packages\\tensorboard\\compat\\tensorflow_stub\\dtypes.py:550: FutureWarning: Passing (type, 1) or '1type' as a synonym of type is deprecated; in a future version of numpy, it will be understood as (type, (1,)) / '(1,)type'.\n",
      "  np_resource = np.dtype([(\"resource\", np.ubyte, 1)])\n"
     ]
    }
   ],
   "source": [
    "from keras.models import Sequential\n",
    "from keras.layers import Dense, Dropout, LSTM\n",
    "from sklearn.preprocessing import MinMaxScaler\n",
    "import numpy as np\n",
    "import pandas as pd\n",
    "import matplotlib.pyplot as plt\n",
    "\n",
    "base = pd.read_csv('petr4_treinamento.csv')\n",
    "base = base.dropna()\n",
    "\n",
    "# vamos pegar todas linhas e a colunas 1\n",
    "base_treinamento = base.iloc[:, 1:2].values\n",
    "\n",
    "# normalizar na escala de 0 e 1\n",
    "normalizador = MinMaxScaler(feature_range=(0,1))\n",
    "base_treinamento_normalizada = normalizador.fit_transform(base_treinamento)\n",
    "\n",
    "previsores = []\n",
    "preco_real = []\n",
    "for i in range(90, 1242):\n",
    "    # previsores.append para adicionar um dado na lista\n",
    "    previsores.append(base_treinamento_normalizada[i-90:i, 0]) # armazenar 90 dias anteriores na primeira será de 0 a 89\n",
    "    preco_real.append(base_treinamento_normalizada[i, 0])\n",
    "    \n",
    "\n",
    "previsores, preco_real = np.array(previsores), np.array(preco_real)\n",
    "\n",
    "# https://keras.io/api/layers/recurrent_layers/lstm/\n",
    "# indicadores\n",
    "# inputs: A 3D tensor with shape [batch, timesteps, feature].\n",
    "# batch quantos registros\n",
    "# timesteps intervalo de tempo no nosso 90 intervalos\n",
    "# feature quantos atributos \n",
    "previsores = np.reshape(previsores, (previsores.shape[0], previsores.shape[1], 1))    "
   ]
  },
  {
   "cell_type": "code",
   "execution_count": 2,
   "metadata": {},
   "outputs": [
    {
     "data": {
      "text/plain": [
       "1152"
      ]
     },
     "execution_count": 2,
     "metadata": {},
     "output_type": "execute_result"
    }
   ],
   "source": [
    "previsores.shape[0]"
   ]
  },
  {
   "cell_type": "code",
   "execution_count": 12,
   "metadata": {},
   "outputs": [
    {
     "data": {
      "text/plain": [
       "90"
      ]
     },
     "execution_count": 12,
     "metadata": {},
     "output_type": "execute_result"
    }
   ],
   "source": [
    "previsores.shape[1]"
   ]
  },
  {
   "cell_type": "code",
   "execution_count": 14,
   "metadata": {},
   "outputs": [
    {
     "data": {
      "text/plain": [
       "(1152, 90, 1)"
      ]
     },
     "execution_count": 14,
     "metadata": {},
     "output_type": "execute_result"
    }
   ],
   "source": [
    "previsores.shape"
   ]
  },
  {
   "cell_type": "code",
   "execution_count": 15,
   "metadata": {},
   "outputs": [
    {
     "data": {
      "text/plain": [
       "(1152,)"
      ]
     },
     "execution_count": 15,
     "metadata": {},
     "output_type": "execute_result"
    }
   ],
   "source": [
    "preco_real.shape"
   ]
  },
  {
   "cell_type": "code",
   "execution_count": 4,
   "metadata": {},
   "outputs": [
    {
     "name": "stdout",
     "output_type": "stream",
     "text": [
      "Epoch 1/10\n",
      "36/36 [==============================] - 5s 138ms/step - loss: 0.0374 - mean_absolute_error: 0.1308\n",
      "Epoch 2/10\n",
      "36/36 [==============================] - 5s 136ms/step - loss: 0.0178 - mean_absolute_error: 0.1035\n",
      "Epoch 3/10\n",
      "36/36 [==============================] - 5s 134ms/step - loss: 0.0140 - mean_absolute_error: 0.0934\n",
      "Epoch 4/10\n",
      "36/36 [==============================] - 5s 133ms/step - loss: 0.0129 - mean_absolute_error: 0.0868\n",
      "Epoch 5/10\n",
      "36/36 [==============================] - 5s 138ms/step - loss: 0.0105 - mean_absolute_error: 0.0789 2s - loss: 0.0115 - mean\n",
      "Epoch 6/10\n",
      "36/36 [==============================] - 5s 135ms/step - loss: 0.0100 - mean_absolute_error: 0.0750\n",
      "Epoch 7/10\n",
      "36/36 [==============================] - 5s 132ms/step - loss: 0.0092 - mean_absolute_error: 0.0724\n",
      "Epoch 8/10\n",
      "36/36 [==============================] - 5s 134ms/step - loss: 0.0071 - mean_absolute_error: 0.0655\n",
      "Epoch 9/10\n",
      "36/36 [==============================] - 5s 131ms/step - loss: 0.0080 - mean_absolute_error: 0.0683\n",
      "Epoch 10/10\n",
      "36/36 [==============================] - 5s 131ms/step - loss: 0.0064 - mean_absolute_error: 0.0621\n"
     ]
    },
    {
     "data": {
      "text/plain": [
       "<tensorflow.python.keras.callbacks.History at 0x28b33ad3448>"
      ]
     },
     "execution_count": 4,
     "metadata": {},
     "output_type": "execute_result"
    }
   ],
   "source": [
    "\n",
    "regressor = Sequential()\n",
    "\n",
    "# numero de celulas de memória units = 100\n",
    "# return_sequences = True indica q vai passar a informacao para frente\n",
    "# input_shape = (previsores.shape[1], 1) 90,1\n",
    "regressor.add(LSTM(units = 100, return_sequences = True, input_shape = (previsores.shape[1], 1)))\n",
    "regressor.add(Dropout(0.3)) # prever overfitting\n",
    "\n",
    "regressor.add(LSTM(units = 50, return_sequences = True))\n",
    "regressor.add(Dropout(0.3))\n",
    "\n",
    "regressor.add(LSTM(units = 50, return_sequences = True))\n",
    "regressor.add(Dropout(0.3))\n",
    "\n",
    "regressor.add(LSTM(units = 50))\n",
    "regressor.add(Dropout(0.3))\n",
    "\n",
    "# rede densa\n",
    "regressor.add(Dense(units = 1, activation = 'linear'))\n",
    "\n",
    "# https://keras.io/api/optimizers/rmsprop/\n",
    "regressor.compile(optimizer = 'rmsprop', loss = 'mean_squared_error', metrics = ['mean_absolute_error'])\n",
    "\n",
    "regressor.fit(previsores, preco_real, epochs = 10, batch_size = 32)"
   ]
  },
  {
   "cell_type": "code",
   "execution_count": 5,
   "metadata": {},
   "outputs": [
    {
     "data": {
      "text/plain": [
       "17.87454563636364"
      ]
     },
     "execution_count": 5,
     "metadata": {},
     "output_type": "execute_result"
    }
   ],
   "source": [
    "base_teste = pd.read_csv('petr4_teste.csv')\n",
    "preco_real_teste = base_teste.iloc[:, 1:2].values # pegamos todas as linhas e a primeira coluna\n",
    "\n",
    "base_completa = pd.concat((base['Open'], base_teste['Open']), axis = 0) # axis = 0 concatena por coluna\n",
    "\n",
    "entradas = base_completa[len(base_completa) - len(base_teste) - 90:].values\n",
    "entradas = entradas.reshape(-1, 1) # -1 nao vou trabalhar com linhas 1 para 1 coluna\n",
    "entradas = normalizador.transform(entradas)\n",
    "\n",
    "X_teste = []\n",
    "for i in range(90, 112):  # 90 + 22 = 112\n",
    "    X_teste.append(entradas[i-90:i, 0])\n",
    "X_teste = np.array(X_teste)\n",
    "X_teste = np.reshape(X_teste, (X_teste.shape[0], X_teste.shape[1], 1))\n",
    "previsoes = regressor.predict(X_teste)\n",
    "previsoes = normalizador.inverse_transform(previsoes) # desnormalizar\n",
    "\n",
    "previsoes.mean()\n",
    "preco_real_teste.mean()"
   ]
  },
  {
   "cell_type": "code",
   "execution_count": 6,
   "metadata": {},
   "outputs": [
    {
     "data": {
      "text/plain": [
       "22"
      ]
     },
     "execution_count": 6,
     "metadata": {},
     "output_type": "execute_result"
    }
   ],
   "source": [
    "X_teste.shape[0]"
   ]
  },
  {
   "cell_type": "code",
   "execution_count": 7,
   "metadata": {},
   "outputs": [
    {
     "data": {
      "text/plain": [
       "90"
      ]
     },
     "execution_count": 7,
     "metadata": {},
     "output_type": "execute_result"
    }
   ],
   "source": [
    "X_teste.shape[1]"
   ]
  },
  {
   "cell_type": "code",
   "execution_count": 8,
   "metadata": {},
   "outputs": [
    {
     "data": {
      "text/plain": [
       "(22, 90, 1)"
      ]
     },
     "execution_count": 8,
     "metadata": {},
     "output_type": "execute_result"
    }
   ],
   "source": [
    "X_teste.shape"
   ]
  },
  {
   "cell_type": "code",
   "execution_count": 9,
   "metadata": {},
   "outputs": [
    {
     "data": {
      "text/plain": [
       "array([[15.484893],\n",
       "       [15.584115],\n",
       "       [15.690576],\n",
       "       [15.803713],\n",
       "       [15.920662],\n",
       "       [16.036907],\n",
       "       [16.150541],\n",
       "       [16.257923],\n",
       "       [16.354235],\n",
       "       [16.4371  ],\n",
       "       [16.509033],\n",
       "       [16.57362 ],\n",
       "       [16.64082 ],\n",
       "       [16.724007],\n",
       "       [16.830566],\n",
       "       [16.959293],\n",
       "       [17.104073],\n",
       "       [17.255138],\n",
       "       [17.413107],\n",
       "       [17.581724],\n",
       "       [17.761425],\n",
       "       [17.948599]], dtype=float32)"
      ]
     },
     "execution_count": 9,
     "metadata": {},
     "output_type": "execute_result"
    }
   ],
   "source": [
    "previsoes"
   ]
  },
  {
   "cell_type": "code",
   "execution_count": 10,
   "metadata": {},
   "outputs": [
    {
     "data": {
      "text/plain": [
       "array([[16.190001],\n",
       "       [16.49    ],\n",
       "       [16.780001],\n",
       "       [16.700001],\n",
       "       [16.74    ],\n",
       "       [17.030001],\n",
       "       [16.92    ],\n",
       "       [16.879999],\n",
       "       [17.040001],\n",
       "       [17.32    ],\n",
       "       [17.35    ],\n",
       "       [17.92    ],\n",
       "       [18.35    ],\n",
       "       [18.309999],\n",
       "       [18.26    ],\n",
       "       [18.4     ],\n",
       "       [18.42    ],\n",
       "       [19.34    ],\n",
       "       [19.620001],\n",
       "       [19.67    ],\n",
       "       [19.77    ],\n",
       "       [19.74    ]])"
      ]
     },
     "execution_count": 10,
     "metadata": {},
     "output_type": "execute_result"
    }
   ],
   "source": [
    "preco_real_teste"
   ]
  },
  {
   "cell_type": "code",
   "execution_count": 16,
   "metadata": {},
   "outputs": [
    {
     "data": {
      "image/png": "[encoded data removed]",
      "text/plain": [
       "<Figure size 432x288 with 1 Axes>"
      ]
     },
     "metadata": {
      "needs_background": "light"
     },
     "output_type": "display_data"
    }
   ],
   "source": [
    "plt.plot(preco_real_teste, color = 'red', label = 'Preço real')\n",
    "plt.plot(previsoes, color = 'blue', label = 'Previsões')\n",
    "plt.title('Previsão preço das ações')\n",
    "plt.xlabel('Tempo')\n",
    "plt.ylabel('Valor Yahoo')\n",
    "plt.legend()\n",
    "plt.show()"
   ]
  }
 ],
 "metadata": {
  "kernelspec": {
   "display_name": "Python 3.7.4 64-bit ('base': conda)",
   "language": "python",
   "name": "python37464bitbaseconda38167b8c1ef44120b52038489a440cfb"
  },
  "language_info": {
   "codemirror_mode": {
    "name": "ipython",
    "version": 3
   },
   "file_extension": ".py",
   "mimetype": "text/x-python",
   "name": "python",
   "nbconvert_exporter": "python",
   "pygments_lexer": "ipython3",
   "version": "3.7.4"
  }
 },
 "nbformat": 4,
 "nbformat_minor": 4
}
