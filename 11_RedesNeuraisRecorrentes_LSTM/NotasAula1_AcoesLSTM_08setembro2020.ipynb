{
  "nbformat": 4,
  "nbformat_minor": 0,
  "metadata": {
    "colab": {
      "name": "NotasAula1_AcoesLSTM_08setembro2020.ipynb",
      "provenance": [],
      "collapsed_sections": []
    },
    "kernelspec": {
      "name": "python3",
      "display_name": "Python 3"
    },
    "accelerator": "GPU"
  },
  "cells": [
    {
      "cell_type": "markdown",
      "metadata": {
        "id": "qOAqcEPJzw8f",
        "colab_type": "text"
      },
      "source": [
        ""
      ]
    },
    {
      "cell_type": "code",
      "metadata": {
        "id": "JyBrj0J5wYxR",
        "colab_type": "code",
        "colab": {}
      },
      "source": [
        "# usar este notebook para criar uma aplicação para verificar tendência de alta e baixa\n",
        "# https://query1.finance.yahoo.com/v7/finance/download/PETR4.SA?period1=946857600&period2=1599523200&interval=1d&events=history\n",
        "# https://query1.finance.yahoo.com/v7/finance/download/MGLU3.SA?period1=1304294400&period2=1599523200&interval=1d&events=history\n"
      ],
      "execution_count": 1,
      "outputs": []
    },
    {
      "cell_type": "code",
      "metadata": {
        "id": "DP6PRZ0CxyNZ",
        "colab_type": "code",
        "colab": {}
      },
      "source": [
        "# importar bibliotecas\n",
        "\n",
        "from keras.models import Sequential \n",
        "from keras.layers import Dense, Dropout, LSTM\n",
        "import numpy as np\n",
        "import pandas as pd\n",
        "import matplotlib.pyplot as plt\n",
        "from sklearn.preprocessing import MinMaxScaler"
      ],
      "execution_count": 3,
      "outputs": []
    },
    {
      "cell_type": "code",
      "metadata": {
        "id": "hfs-UkjVx30s",
        "colab_type": "code",
        "colab": {}
      },
      "source": [
        "acoes = pd.read_csv('/content/drive/My Drive/curso_fundamentos_de_deep_learning_A/12_LSTM/PETR4SA_baixado08setembro2020.csv')\n",
        "#acoes = pd.read_csv('https://query1.finance.yahoo.com/v7/finance/download/PETR4.SA?period1=946857600&period2=1599523200&interval=1d&events=history')"
      ],
      "execution_count": 23,
      "outputs": []
    },
    {
      "cell_type": "code",
      "metadata": {
        "id": "KT1asiFxyHnU",
        "colab_type": "code",
        "colab": {
          "base_uri": "https://localhost:8080/",
          "height": 423
        },
        "outputId": "37c01888-013e-4285-ca4f-06cdf7945463"
      },
      "source": [
        "acoes"
      ],
      "execution_count": 5,
      "outputs": [
        {
          "output_type": "execute_result",
          "data": {
            "text/html": [
              "<div>\n",
              "<style scoped>\n",
              "    .dataframe tbody tr th:only-of-type {\n",
              "        vertical-align: middle;\n",
              "    }\n",
              "\n",
              "    .dataframe tbody tr th {\n",
              "        vertical-align: top;\n",
              "    }\n",
              "\n",
              "    .dataframe thead th {\n",
              "        text-align: right;\n",
              "    }\n",
              "</style>\n",
              "<table border=\"1\" class=\"dataframe\">\n",
              "  <thead>\n",
              "    <tr style=\"text-align: right;\">\n",
              "      <th></th>\n",
              "      <th>Date</th>\n",
              "      <th>Open</th>\n",
              "      <th>High</th>\n",
              "      <th>Low</th>\n",
              "      <th>Close</th>\n",
              "      <th>Adj Close</th>\n",
              "      <th>Volume</th>\n",
              "    </tr>\n",
              "  </thead>\n",
              "  <tbody>\n",
              "    <tr>\n",
              "      <th>0</th>\n",
              "      <td>2000-01-03</td>\n",
              "      <td>5.875000</td>\n",
              "      <td>5.875000</td>\n",
              "      <td>5.875000</td>\n",
              "      <td>5.875000</td>\n",
              "      <td>4.050103</td>\n",
              "      <td>3.538944e+10</td>\n",
              "    </tr>\n",
              "    <tr>\n",
              "      <th>1</th>\n",
              "      <td>2000-01-04</td>\n",
              "      <td>5.550000</td>\n",
              "      <td>5.550000</td>\n",
              "      <td>5.550000</td>\n",
              "      <td>5.550000</td>\n",
              "      <td>3.826055</td>\n",
              "      <td>2.886144e+10</td>\n",
              "    </tr>\n",
              "    <tr>\n",
              "      <th>2</th>\n",
              "      <td>2000-01-05</td>\n",
              "      <td>5.494000</td>\n",
              "      <td>5.494000</td>\n",
              "      <td>5.494000</td>\n",
              "      <td>5.494000</td>\n",
              "      <td>3.787450</td>\n",
              "      <td>4.303360e+10</td>\n",
              "    </tr>\n",
              "    <tr>\n",
              "      <th>3</th>\n",
              "      <td>2000-01-06</td>\n",
              "      <td>5.475000</td>\n",
              "      <td>5.475000</td>\n",
              "      <td>5.475000</td>\n",
              "      <td>5.475000</td>\n",
              "      <td>3.774351</td>\n",
              "      <td>3.405568e+10</td>\n",
              "    </tr>\n",
              "    <tr>\n",
              "      <th>4</th>\n",
              "      <td>2000-01-07</td>\n",
              "      <td>5.500000</td>\n",
              "      <td>5.500000</td>\n",
              "      <td>5.500000</td>\n",
              "      <td>5.500000</td>\n",
              "      <td>3.791586</td>\n",
              "      <td>2.091264e+10</td>\n",
              "    </tr>\n",
              "    <tr>\n",
              "      <th>...</th>\n",
              "      <td>...</td>\n",
              "      <td>...</td>\n",
              "      <td>...</td>\n",
              "      <td>...</td>\n",
              "      <td>...</td>\n",
              "      <td>...</td>\n",
              "      <td>...</td>\n",
              "    </tr>\n",
              "    <tr>\n",
              "      <th>5178</th>\n",
              "      <td>2020-07-30</td>\n",
              "      <td>22.920000</td>\n",
              "      <td>22.920000</td>\n",
              "      <td>22.500000</td>\n",
              "      <td>22.820000</td>\n",
              "      <td>22.820000</td>\n",
              "      <td>5.785900e+07</td>\n",
              "    </tr>\n",
              "    <tr>\n",
              "      <th>5179</th>\n",
              "      <td>2020-07-31</td>\n",
              "      <td>22.920000</td>\n",
              "      <td>23.139999</td>\n",
              "      <td>22.160000</td>\n",
              "      <td>22.200001</td>\n",
              "      <td>22.200001</td>\n",
              "      <td>7.539730e+07</td>\n",
              "    </tr>\n",
              "    <tr>\n",
              "      <th>5180</th>\n",
              "      <td>2020-08-03</td>\n",
              "      <td>22.540001</td>\n",
              "      <td>22.549999</td>\n",
              "      <td>21.719999</td>\n",
              "      <td>21.799999</td>\n",
              "      <td>21.799999</td>\n",
              "      <td>6.359850e+07</td>\n",
              "    </tr>\n",
              "    <tr>\n",
              "      <th>5181</th>\n",
              "      <td>2020-08-04</td>\n",
              "      <td>21.459999</td>\n",
              "      <td>22.049999</td>\n",
              "      <td>21.250000</td>\n",
              "      <td>21.780001</td>\n",
              "      <td>21.780001</td>\n",
              "      <td>6.301190e+07</td>\n",
              "    </tr>\n",
              "    <tr>\n",
              "      <th>5182</th>\n",
              "      <td>2020-08-05</td>\n",
              "      <td>22.230000</td>\n",
              "      <td>23.280001</td>\n",
              "      <td>22.230000</td>\n",
              "      <td>23.180000</td>\n",
              "      <td>23.180000</td>\n",
              "      <td>1.372147e+08</td>\n",
              "    </tr>\n",
              "  </tbody>\n",
              "</table>\n",
              "<p>5183 rows × 7 columns</p>\n",
              "</div>"
            ],
            "text/plain": [
              "            Date       Open       High  ...      Close  Adj Close        Volume\n",
              "0     2000-01-03   5.875000   5.875000  ...   5.875000   4.050103  3.538944e+10\n",
              "1     2000-01-04   5.550000   5.550000  ...   5.550000   3.826055  2.886144e+10\n",
              "2     2000-01-05   5.494000   5.494000  ...   5.494000   3.787450  4.303360e+10\n",
              "3     2000-01-06   5.475000   5.475000  ...   5.475000   3.774351  3.405568e+10\n",
              "4     2000-01-07   5.500000   5.500000  ...   5.500000   3.791586  2.091264e+10\n",
              "...          ...        ...        ...  ...        ...        ...           ...\n",
              "5178  2020-07-30  22.920000  22.920000  ...  22.820000  22.820000  5.785900e+07\n",
              "5179  2020-07-31  22.920000  23.139999  ...  22.200001  22.200001  7.539730e+07\n",
              "5180  2020-08-03  22.540001  22.549999  ...  21.799999  21.799999  6.359850e+07\n",
              "5181  2020-08-04  21.459999  22.049999  ...  21.780001  21.780001  6.301190e+07\n",
              "5182  2020-08-05  22.230000  23.280001  ...  23.180000  23.180000  1.372147e+08\n",
              "\n",
              "[5183 rows x 7 columns]"
            ]
          },
          "metadata": {
            "tags": []
          },
          "execution_count": 5
        }
      ]
    },
    {
      "cell_type": "code",
      "metadata": {
        "id": "Jguy86gzyTgj",
        "colab_type": "code",
        "colab": {
          "base_uri": "https://localhost:8080/",
          "height": 206
        },
        "outputId": "e9546ccd-97da-4759-c56e-96d0a64db5ca"
      },
      "source": [
        "acoes.tail()"
      ],
      "execution_count": 22,
      "outputs": [
        {
          "output_type": "execute_result",
          "data": {
            "text/html": [
              "<div>\n",
              "<style scoped>\n",
              "    .dataframe tbody tr th:only-of-type {\n",
              "        vertical-align: middle;\n",
              "    }\n",
              "\n",
              "    .dataframe tbody tr th {\n",
              "        vertical-align: top;\n",
              "    }\n",
              "\n",
              "    .dataframe thead th {\n",
              "        text-align: right;\n",
              "    }\n",
              "</style>\n",
              "<table border=\"1\" class=\"dataframe\">\n",
              "  <thead>\n",
              "    <tr style=\"text-align: right;\">\n",
              "      <th></th>\n",
              "      <th>Date</th>\n",
              "      <th>Open</th>\n",
              "      <th>High</th>\n",
              "      <th>Low</th>\n",
              "      <th>Close</th>\n",
              "      <th>Adj Close</th>\n",
              "      <th>Volume</th>\n",
              "    </tr>\n",
              "  </thead>\n",
              "  <tbody>\n",
              "    <tr>\n",
              "      <th>5178</th>\n",
              "      <td>2020-07-30</td>\n",
              "      <td>22.920000</td>\n",
              "      <td>22.920000</td>\n",
              "      <td>22.500000</td>\n",
              "      <td>22.820000</td>\n",
              "      <td>22.820000</td>\n",
              "      <td>57859000.0</td>\n",
              "    </tr>\n",
              "    <tr>\n",
              "      <th>5179</th>\n",
              "      <td>2020-07-31</td>\n",
              "      <td>22.920000</td>\n",
              "      <td>23.139999</td>\n",
              "      <td>22.160000</td>\n",
              "      <td>22.200001</td>\n",
              "      <td>22.200001</td>\n",
              "      <td>75397300.0</td>\n",
              "    </tr>\n",
              "    <tr>\n",
              "      <th>5180</th>\n",
              "      <td>2020-08-03</td>\n",
              "      <td>22.540001</td>\n",
              "      <td>22.549999</td>\n",
              "      <td>21.719999</td>\n",
              "      <td>21.799999</td>\n",
              "      <td>21.799999</td>\n",
              "      <td>63598500.0</td>\n",
              "    </tr>\n",
              "    <tr>\n",
              "      <th>5181</th>\n",
              "      <td>2020-08-04</td>\n",
              "      <td>21.459999</td>\n",
              "      <td>22.049999</td>\n",
              "      <td>21.250000</td>\n",
              "      <td>21.780001</td>\n",
              "      <td>21.780001</td>\n",
              "      <td>63011900.0</td>\n",
              "    </tr>\n",
              "    <tr>\n",
              "      <th>5182</th>\n",
              "      <td>2020-08-05</td>\n",
              "      <td>22.230000</td>\n",
              "      <td>23.280001</td>\n",
              "      <td>22.230000</td>\n",
              "      <td>23.180000</td>\n",
              "      <td>23.180000</td>\n",
              "      <td>137214700.0</td>\n",
              "    </tr>\n",
              "  </tbody>\n",
              "</table>\n",
              "</div>"
            ],
            "text/plain": [
              "            Date       Open       High  ...      Close  Adj Close       Volume\n",
              "5178  2020-07-30  22.920000  22.920000  ...  22.820000  22.820000   57859000.0\n",
              "5179  2020-07-31  22.920000  23.139999  ...  22.200001  22.200001   75397300.0\n",
              "5180  2020-08-03  22.540001  22.549999  ...  21.799999  21.799999   63598500.0\n",
              "5181  2020-08-04  21.459999  22.049999  ...  21.780001  21.780001   63011900.0\n",
              "5182  2020-08-05  22.230000  23.280001  ...  23.180000  23.180000  137214700.0\n",
              "\n",
              "[5 rows x 7 columns]"
            ]
          },
          "metadata": {
            "tags": []
          },
          "execution_count": 22
        }
      ]
    },
    {
      "cell_type": "code",
      "metadata": {
        "id": "a42PvbvDyuUo",
        "colab_type": "code",
        "colab": {}
      },
      "source": [
        "acoes = acoes.dropna()"
      ],
      "execution_count": 9,
      "outputs": []
    },
    {
      "cell_type": "code",
      "metadata": {
        "id": "JHbuzsuuyyz9",
        "colab_type": "code",
        "colab": {}
      },
      "source": [
        "acoes_treinamento = acoes.iloc[:,1:2 ].values"
      ],
      "execution_count": 10,
      "outputs": []
    },
    {
      "cell_type": "code",
      "metadata": {
        "id": "l_NY75Mgy628",
        "colab_type": "code",
        "colab": {
          "base_uri": "https://localhost:8080/",
          "height": 36
        },
        "outputId": "b76b5348-0ff7-4882-a29e-9d43c2574699"
      },
      "source": [
        "acoes_treinamento.shape"
      ],
      "execution_count": 13,
      "outputs": [
        {
          "output_type": "execute_result",
          "data": {
            "text/plain": [
              "(5066, 1)"
            ]
          },
          "metadata": {
            "tags": []
          },
          "execution_count": 13
        }
      ]
    },
    {
      "cell_type": "code",
      "metadata": {
        "id": "WFU7PX-Xy9qe",
        "colab_type": "code",
        "colab": {}
      },
      "source": [
        "normalizador = MinMaxScaler(feature_range=(0,1))"
      ],
      "execution_count": 15,
      "outputs": []
    },
    {
      "cell_type": "code",
      "metadata": {
        "id": "-iUItHJizGri",
        "colab_type": "code",
        "colab": {}
      },
      "source": [
        "acoes_treinamento_normalizada = normalizador.fit_transform(acoes_treinamento)"
      ],
      "execution_count": 16,
      "outputs": []
    },
    {
      "cell_type": "code",
      "metadata": {
        "id": "xk7o1A3gzJix",
        "colab_type": "code",
        "colab": {
          "base_uri": "https://localhost:8080/",
          "height": 36
        },
        "outputId": "63aa19b2-78f3-4c61-d704-36119153f264"
      },
      "source": [
        "acoes_treinamento_normalizada.shape"
      ],
      "execution_count": 21,
      "outputs": [
        {
          "output_type": "execute_result",
          "data": {
            "text/plain": [
              "(5066, 1)"
            ]
          },
          "metadata": {
            "tags": []
          },
          "execution_count": 21
        }
      ]
    },
    {
      "cell_type": "code",
      "metadata": {
        "id": "8xHzWOsizKsF",
        "colab_type": "code",
        "colab": {}
      },
      "source": [
        "previsores = []"
      ],
      "execution_count": 19,
      "outputs": []
    },
    {
      "cell_type": "code",
      "metadata": {
        "id": "jZDpC_VczNTv",
        "colab_type": "code",
        "colab": {}
      },
      "source": [
        "preco_real = []"
      ],
      "execution_count": 24,
      "outputs": []
    },
    {
      "cell_type": "code",
      "metadata": {
        "id": "fFNP4nRa0Zzq",
        "colab_type": "code",
        "colab": {
          "base_uri": "https://localhost:8080/",
          "height": 36
        },
        "outputId": "c8256681-18bf-4603-cb75-eb17cebf6452"
      },
      "source": [
        "acoes_treinamento_normalizada[90,0]"
      ],
      "execution_count": 26,
      "outputs": [
        {
          "output_type": "execute_result",
          "data": {
            "text/plain": [
              "0.02044233807266982"
            ]
          },
          "metadata": {
            "tags": []
          },
          "execution_count": 26
        }
      ]
    },
    {
      "cell_type": "code",
      "metadata": {
        "id": "Zf3QM2Pw0tyD",
        "colab_type": "code",
        "colab": {
          "base_uri": "https://localhost:8080/",
          "height": 354
        },
        "outputId": "51c6af0e-0627-4fdd-d2bd-8f5165e0f8a5"
      },
      "source": [
        "acoes_treinamento_normalizada[0:90,0]"
      ],
      "execution_count": 27,
      "outputs": [
        {
          "output_type": "execute_result",
          "data": {
            "text/plain": [
              "array([0.0264613 , 0.02132701, 0.02044234, 0.02014218, 0.02053712,\n",
              "       0.02232227, 0.02014218, 0.02026856, 0.01777251, 0.01895735,\n",
              "       0.01797788, 0.01837283, 0.01777251, 0.01758294, 0.01579779,\n",
              "       0.01521327, 0.01521327, 0.01619273, 0.01560821, 0.01560821,\n",
              "       0.01423381, 0.01579779, 0.01737757, 0.01974724, 0.02192733,\n",
              "       0.02251185, 0.02448657, 0.02251185, 0.01995261, 0.01718799,\n",
              "       0.01600316, 0.01758294, 0.024297  , 0.02350711, 0.02153239,\n",
              "       0.02132701, 0.02093207, 0.02153239, 0.02390205, 0.02627172,\n",
              "       0.02448657, 0.02488152, 0.0264613 , 0.02587678, 0.02903633,\n",
              "       0.02903633, 0.02903633, 0.03129542, 0.03473934, 0.03180095,\n",
              "       0.03180095, 0.02548183, 0.02666667, 0.02725118, 0.02627172,\n",
              "       0.02350711, 0.02527646, 0.02549763, 0.02548183, 0.02548183,\n",
              "       0.03238547, 0.02824645, 0.0278515 , 0.02567141, 0.02685624,\n",
              "       0.02606635, 0.02557662, 0.02943128, 0.03080569, 0.031406  ,\n",
              "       0.02922591, 0.02685624, 0.02902054, 0.02685624, 0.02685624,\n",
              "       0.01658768, 0.01916272, 0.01402844, 0.01421801, 0.01421801,\n",
              "       0.01263823, 0.01974724, 0.01846761, 0.0185624 , 0.0185782 ,\n",
              "       0.0185782 , 0.02063191, 0.02034755, 0.02014218, 0.02034755])"
            ]
          },
          "metadata": {
            "tags": []
          },
          "execution_count": 27
        }
      ]
    },
    {
      "cell_type": "code",
      "metadata": {
        "id": "B9jHAk21zOOF",
        "colab_type": "code",
        "colab": {}
      },
      "source": [
        "# este loop é para adicionar elementos nos previsores e  preco_real\n",
        "for i in range(90, 5066):\n",
        "  previsores.append(acoes_treinamento_normalizada[i-90:i,0])\n",
        "  preco_real.append(acoes_treinamento_normalizada[i,0])"
      ],
      "execution_count": 28,
      "outputs": []
    },
    {
      "cell_type": "code",
      "metadata": {
        "id": "p-NW_aYE07Q4",
        "colab_type": "code",
        "colab": {
          "base_uri": "https://localhost:8080/",
          "height": 36
        },
        "outputId": "95ca3f07-c2b2-4e10-9207-09c8bb38b4fa"
      },
      "source": [
        "preco_real[0]"
      ],
      "execution_count": 30,
      "outputs": [
        {
          "output_type": "execute_result",
          "data": {
            "text/plain": [
              "0.02044233807266982"
            ]
          },
          "metadata": {
            "tags": []
          },
          "execution_count": 30
        }
      ]
    },
    {
      "cell_type": "code",
      "metadata": {
        "id": "VmWWtgvT1Brb",
        "colab_type": "code",
        "colab": {
          "base_uri": "https://localhost:8080/",
          "height": 354
        },
        "outputId": "0ffaaaec-b660-40dc-c1ae-d28feaa3ac4b"
      },
      "source": [
        "previsores[0]"
      ],
      "execution_count": 32,
      "outputs": [
        {
          "output_type": "execute_result",
          "data": {
            "text/plain": [
              "array([0.0264613 , 0.02132701, 0.02044234, 0.02014218, 0.02053712,\n",
              "       0.02232227, 0.02014218, 0.02026856, 0.01777251, 0.01895735,\n",
              "       0.01797788, 0.01837283, 0.01777251, 0.01758294, 0.01579779,\n",
              "       0.01521327, 0.01521327, 0.01619273, 0.01560821, 0.01560821,\n",
              "       0.01423381, 0.01579779, 0.01737757, 0.01974724, 0.02192733,\n",
              "       0.02251185, 0.02448657, 0.02251185, 0.01995261, 0.01718799,\n",
              "       0.01600316, 0.01758294, 0.024297  , 0.02350711, 0.02153239,\n",
              "       0.02132701, 0.02093207, 0.02153239, 0.02390205, 0.02627172,\n",
              "       0.02448657, 0.02488152, 0.0264613 , 0.02587678, 0.02903633,\n",
              "       0.02903633, 0.02903633, 0.03129542, 0.03473934, 0.03180095,\n",
              "       0.03180095, 0.02548183, 0.02666667, 0.02725118, 0.02627172,\n",
              "       0.02350711, 0.02527646, 0.02549763, 0.02548183, 0.02548183,\n",
              "       0.03238547, 0.02824645, 0.0278515 , 0.02567141, 0.02685624,\n",
              "       0.02606635, 0.02557662, 0.02943128, 0.03080569, 0.031406  ,\n",
              "       0.02922591, 0.02685624, 0.02902054, 0.02685624, 0.02685624,\n",
              "       0.01658768, 0.01916272, 0.01402844, 0.01421801, 0.01421801,\n",
              "       0.01263823, 0.01974724, 0.01846761, 0.0185624 , 0.0185782 ,\n",
              "       0.0185782 , 0.02063191, 0.02034755, 0.02014218, 0.02034755])"
            ]
          },
          "metadata": {
            "tags": []
          },
          "execution_count": 32
        }
      ]
    },
    {
      "cell_type": "code",
      "metadata": {
        "id": "3ZwZ4gGR1EC7",
        "colab_type": "code",
        "colab": {
          "base_uri": "https://localhost:8080/",
          "height": 36
        },
        "outputId": "a0fc9a31-26c5-4a52-f178-3872956d81b2"
      },
      "source": [
        "preco_real[0]"
      ],
      "execution_count": 35,
      "outputs": [
        {
          "output_type": "execute_result",
          "data": {
            "text/plain": [
              "0.02044233807266982"
            ]
          },
          "metadata": {
            "tags": []
          },
          "execution_count": 35
        }
      ]
    },
    {
      "cell_type": "code",
      "metadata": {
        "id": "AvfeZc_N1H6N",
        "colab_type": "code",
        "colab": {
          "base_uri": "https://localhost:8080/",
          "height": 36
        },
        "outputId": "5301e650-29c0-46d3-be3b-ca871a4993dc"
      },
      "source": [
        "previsores[0].shape"
      ],
      "execution_count": 45,
      "outputs": [
        {
          "output_type": "execute_result",
          "data": {
            "text/plain": [
              "(90,)"
            ]
          },
          "metadata": {
            "tags": []
          },
          "execution_count": 45
        }
      ]
    },
    {
      "cell_type": "code",
      "metadata": {
        "id": "qxh8Cgn63DzF",
        "colab_type": "code",
        "colab": {}
      },
      "source": [
        "previsores = np.array(previsores)"
      ],
      "execution_count": 47,
      "outputs": []
    },
    {
      "cell_type": "code",
      "metadata": {
        "id": "AVEHiLom3Evn",
        "colab_type": "code",
        "colab": {
          "base_uri": "https://localhost:8080/",
          "height": 36
        },
        "outputId": "445adb40-3314-4ce7-955f-63e53b7c5ab5"
      },
      "source": [
        "previsores.shape"
      ],
      "execution_count": 53,
      "outputs": [
        {
          "output_type": "execute_result",
          "data": {
            "text/plain": [
              "(4976, 90)"
            ]
          },
          "metadata": {
            "tags": []
          },
          "execution_count": 53
        }
      ]
    },
    {
      "cell_type": "code",
      "metadata": {
        "id": "VSkbyM-X3INk",
        "colab_type": "code",
        "colab": {}
      },
      "source": [
        "preco_real = np.array(preco_real)"
      ],
      "execution_count": 50,
      "outputs": []
    },
    {
      "cell_type": "code",
      "metadata": {
        "id": "GkB_MILi3oPN",
        "colab_type": "code",
        "colab": {
          "base_uri": "https://localhost:8080/",
          "height": 36
        },
        "outputId": "d894d3d0-d803-4c53-ef10-6c93bb70979d"
      },
      "source": [
        "preco_real.shape"
      ],
      "execution_count": 56,
      "outputs": [
        {
          "output_type": "execute_result",
          "data": {
            "text/plain": [
              "(4976,)"
            ]
          },
          "metadata": {
            "tags": []
          },
          "execution_count": 56
        }
      ]
    },
    {
      "cell_type": "code",
      "metadata": {
        "id": "1JW-D1Sz51n7",
        "colab_type": "code",
        "colab": {
          "base_uri": "https://localhost:8080/",
          "height": 36
        },
        "outputId": "65107bb4-50ad-4406-9bdd-dc296ad90a00"
      },
      "source": [
        "previsores.shape[0]"
      ],
      "execution_count": 62,
      "outputs": [
        {
          "output_type": "execute_result",
          "data": {
            "text/plain": [
              "4976"
            ]
          },
          "metadata": {
            "tags": []
          },
          "execution_count": 62
        }
      ]
    },
    {
      "cell_type": "code",
      "metadata": {
        "id": "zh2OisC36MAu",
        "colab_type": "code",
        "colab": {
          "base_uri": "https://localhost:8080/",
          "height": 36
        },
        "outputId": "bde15c40-c401-4243-d02a-ce98257b5af0"
      },
      "source": [
        "previsores.shape[1]"
      ],
      "execution_count": 63,
      "outputs": [
        {
          "output_type": "execute_result",
          "data": {
            "text/plain": [
              "90"
            ]
          },
          "metadata": {
            "tags": []
          },
          "execution_count": 63
        }
      ]
    },
    {
      "cell_type": "code",
      "metadata": {
        "id": "E7ng0SN71MZz",
        "colab_type": "code",
        "colab": {}
      },
      "source": [
        "# precisamos adaptar a entrada para seguir a especificação \n",
        "# https://keras.io/api/layers/recurrent_layers/lstm/\n",
        "# inputs: A 3D tensor with shape [batch, timesteps, feature].\n",
        "batch = previsores.shape[0] # 4976\n",
        "timesteps = previsores.shape[1]\n",
        "feature=1\n",
        "previsores = np.reshape(previsores, (batch, timesteps, feature))"
      ],
      "execution_count": 64,
      "outputs": []
    },
    {
      "cell_type": "code",
      "metadata": {
        "id": "sKNkRJYC6V6V",
        "colab_type": "code",
        "colab": {
          "base_uri": "https://localhost:8080/",
          "height": 36
        },
        "outputId": "a7e4ae74-f985-4762-f83b-d948ffdcf2a5"
      },
      "source": [
        "previsores.shape"
      ],
      "execution_count": 65,
      "outputs": [
        {
          "output_type": "execute_result",
          "data": {
            "text/plain": [
              "(4976, 90, 1)"
            ]
          },
          "metadata": {
            "tags": []
          },
          "execution_count": 65
        }
      ]
    },
    {
      "cell_type": "code",
      "metadata": {
        "id": "VzPZOOqP6Zq7",
        "colab_type": "code",
        "colab": {
          "base_uri": "https://localhost:8080/",
          "height": 36
        },
        "outputId": "3b47b200-93d2-4473-e21e-535c1c6d88a8"
      },
      "source": [
        "preco_real.shape"
      ],
      "execution_count": 66,
      "outputs": [
        {
          "output_type": "execute_result",
          "data": {
            "text/plain": [
              "(4976,)"
            ]
          },
          "metadata": {
            "tags": []
          },
          "execution_count": 66
        }
      ]
    },
    {
      "cell_type": "code",
      "metadata": {
        "id": "CS0v7NXk6f60",
        "colab_type": "code",
        "colab": {}
      },
      "source": [
        "# vamos criar o modelo \n",
        "modelo_acao_petrobras = Sequential()\n",
        "\n",
        "# units=100 são 100 neurônios e cada neurônio é uma célula de memória\n",
        "# entrada input_shape=(timesteps, 1) input_shape=(90, 1)\n",
        "# primeira camada lstm \n",
        "modelo_acao_petrobras.add(LSTM(units=100, return_sequences=True, input_shape=(timesteps, 1)) )\n",
        "modelo_acao_petrobras.add(Dropout(0.3)) # para evitar overfitting\n",
        "\n",
        "# segunda camada lstm \n",
        "modelo_acao_petrobras.add(LSTM(units=50, return_sequences=True) )\n",
        "modelo_acao_petrobras.add(Dropout(0.3)) # para evitar overfitting\n",
        "\n",
        "# terceira camada lstm \n",
        "modelo_acao_petrobras.add(LSTM(units=50, return_sequences=True) )\n",
        "modelo_acao_petrobras.add(Dropout(0.3)) # para evitar overfitting\n",
        "\n",
        "# quarta camada lstm \n",
        "# Vamos retirar return_sequences=True, pois após esta camada será a camada densa\n",
        "modelo_acao_petrobras.add(LSTM(units=50) )\n",
        "modelo_acao_petrobras.add(Dropout(0.3)) # para evitar overfitting\n",
        "\n",
        "# rede neural densa\n",
        "# camada de saída terá units=1 pois teremos apenas 1 resposta\n",
        "# função de ativação linear, pois teremos um modelo que fará uma regressão linear\n",
        "modelo_acao_petrobras.add(Dense(units=1, activation='linear'))"
      ],
      "execution_count": 69,
      "outputs": []
    },
    {
      "cell_type": "code",
      "metadata": {
        "id": "WeDiDjZW6u-M",
        "colab_type": "code",
        "colab": {}
      },
      "source": [
        "# https://keras.io/api/optimizers/rmsprop/\n",
        "modelo_acao_petrobras.compile(optimizer='rmsprop', loss='mean_squared_error', metrics='mean_absolute_error')"
      ],
      "execution_count": 70,
      "outputs": []
    },
    {
      "cell_type": "code",
      "metadata": {
        "id": "AlN6Nr9j_3eM",
        "colab_type": "code",
        "colab": {
          "base_uri": "https://localhost:8080/",
          "height": 1000
        },
        "outputId": "be01601f-2bb7-4988-bb25-ec4685dc13b3"
      },
      "source": [
        "epocas=100\n",
        "historico_epocas = modelo_acao_petrobras.fit(previsores, preco_real, epochs=epocas, batch_size=32)"
      ],
      "execution_count": 71,
      "outputs": [
        {
          "output_type": "stream",
          "text": [
            "Epoch 1/100\n",
            "156/156 [==============================] - 3s 18ms/step - loss: 0.0057 - mean_absolute_error: 0.0496\n",
            "Epoch 2/100\n",
            "156/156 [==============================] - 3s 18ms/step - loss: 0.0027 - mean_absolute_error: 0.0351\n",
            "Epoch 3/100\n",
            "156/156 [==============================] - 3s 18ms/step - loss: 0.0021 - mean_absolute_error: 0.0311\n",
            "Epoch 4/100\n",
            "156/156 [==============================] - 3s 18ms/step - loss: 0.0018 - mean_absolute_error: 0.0287\n",
            "Epoch 5/100\n",
            "156/156 [==============================] - 3s 18ms/step - loss: 0.0015 - mean_absolute_error: 0.0269\n",
            "Epoch 6/100\n",
            "156/156 [==============================] - 3s 19ms/step - loss: 0.0014 - mean_absolute_error: 0.0252\n",
            "Epoch 7/100\n",
            "156/156 [==============================] - 3s 18ms/step - loss: 0.0013 - mean_absolute_error: 0.0248\n",
            "Epoch 8/100\n",
            "156/156 [==============================] - 3s 18ms/step - loss: 0.0012 - mean_absolute_error: 0.0239\n",
            "Epoch 9/100\n",
            "156/156 [==============================] - 3s 18ms/step - loss: 0.0012 - mean_absolute_error: 0.0230\n",
            "Epoch 10/100\n",
            "156/156 [==============================] - 3s 18ms/step - loss: 0.0012 - mean_absolute_error: 0.0229\n",
            "Epoch 11/100\n",
            "156/156 [==============================] - 3s 18ms/step - loss: 0.0011 - mean_absolute_error: 0.0220\n",
            "Epoch 12/100\n",
            "156/156 [==============================] - 3s 18ms/step - loss: 0.0011 - mean_absolute_error: 0.0218\n",
            "Epoch 13/100\n",
            "156/156 [==============================] - 3s 18ms/step - loss: 0.0010 - mean_absolute_error: 0.0210\n",
            "Epoch 14/100\n",
            "156/156 [==============================] - 3s 18ms/step - loss: 0.0010 - mean_absolute_error: 0.0208\n",
            "Epoch 15/100\n",
            "156/156 [==============================] - 3s 18ms/step - loss: 9.8341e-04 - mean_absolute_error: 0.0205\n",
            "Epoch 16/100\n",
            "156/156 [==============================] - 3s 18ms/step - loss: 9.4525e-04 - mean_absolute_error: 0.0201\n",
            "Epoch 17/100\n",
            "156/156 [==============================] - 3s 18ms/step - loss: 9.1427e-04 - mean_absolute_error: 0.0200\n",
            "Epoch 18/100\n",
            "156/156 [==============================] - 3s 18ms/step - loss: 9.3985e-04 - mean_absolute_error: 0.0199\n",
            "Epoch 19/100\n",
            "156/156 [==============================] - 3s 18ms/step - loss: 8.8298e-04 - mean_absolute_error: 0.0196\n",
            "Epoch 20/100\n",
            "156/156 [==============================] - 3s 18ms/step - loss: 9.1396e-04 - mean_absolute_error: 0.0194\n",
            "Epoch 21/100\n",
            "156/156 [==============================] - 3s 18ms/step - loss: 8.5645e-04 - mean_absolute_error: 0.0190\n",
            "Epoch 22/100\n",
            "156/156 [==============================] - 3s 18ms/step - loss: 8.6878e-04 - mean_absolute_error: 0.0191\n",
            "Epoch 23/100\n",
            "156/156 [==============================] - 3s 18ms/step - loss: 8.6558e-04 - mean_absolute_error: 0.0191\n",
            "Epoch 24/100\n",
            "156/156 [==============================] - 3s 18ms/step - loss: 8.5280e-04 - mean_absolute_error: 0.0189\n",
            "Epoch 25/100\n",
            "156/156 [==============================] - 3s 18ms/step - loss: 8.1828e-04 - mean_absolute_error: 0.0184\n",
            "Epoch 26/100\n",
            "156/156 [==============================] - 3s 18ms/step - loss: 8.3700e-04 - mean_absolute_error: 0.0186\n",
            "Epoch 27/100\n",
            "156/156 [==============================] - 3s 18ms/step - loss: 8.1248e-04 - mean_absolute_error: 0.0182\n",
            "Epoch 28/100\n",
            "156/156 [==============================] - 3s 18ms/step - loss: 8.1231e-04 - mean_absolute_error: 0.0184\n",
            "Epoch 29/100\n",
            "156/156 [==============================] - 3s 18ms/step - loss: 8.2895e-04 - mean_absolute_error: 0.0185\n",
            "Epoch 30/100\n",
            "156/156 [==============================] - 3s 18ms/step - loss: 7.9573e-04 - mean_absolute_error: 0.0181\n",
            "Epoch 31/100\n",
            "156/156 [==============================] - 3s 18ms/step - loss: 7.6059e-04 - mean_absolute_error: 0.0179\n",
            "Epoch 32/100\n",
            "156/156 [==============================] - 3s 18ms/step - loss: 7.6733e-04 - mean_absolute_error: 0.0179\n",
            "Epoch 33/100\n",
            "156/156 [==============================] - 3s 18ms/step - loss: 7.7072e-04 - mean_absolute_error: 0.0178\n",
            "Epoch 34/100\n",
            "156/156 [==============================] - 3s 18ms/step - loss: 7.8041e-04 - mean_absolute_error: 0.0177\n",
            "Epoch 35/100\n",
            "156/156 [==============================] - 3s 18ms/step - loss: 7.8830e-04 - mean_absolute_error: 0.0175\n",
            "Epoch 36/100\n",
            "156/156 [==============================] - 3s 18ms/step - loss: 7.7815e-04 - mean_absolute_error: 0.0177\n",
            "Epoch 37/100\n",
            "156/156 [==============================] - 3s 18ms/step - loss: 7.2748e-04 - mean_absolute_error: 0.0172\n",
            "Epoch 38/100\n",
            "156/156 [==============================] - 3s 18ms/step - loss: 7.4909e-04 - mean_absolute_error: 0.0175\n",
            "Epoch 39/100\n",
            "156/156 [==============================] - 3s 18ms/step - loss: 7.1352e-04 - mean_absolute_error: 0.0169\n",
            "Epoch 40/100\n",
            "156/156 [==============================] - 3s 18ms/step - loss: 7.4196e-04 - mean_absolute_error: 0.0172\n",
            "Epoch 41/100\n",
            "156/156 [==============================] - 3s 18ms/step - loss: 7.6333e-04 - mean_absolute_error: 0.0172\n",
            "Epoch 42/100\n",
            "156/156 [==============================] - 3s 18ms/step - loss: 7.4099e-04 - mean_absolute_error: 0.0174\n",
            "Epoch 43/100\n",
            "156/156 [==============================] - 3s 18ms/step - loss: 7.2051e-04 - mean_absolute_error: 0.0169\n",
            "Epoch 44/100\n",
            "156/156 [==============================] - 3s 18ms/step - loss: 7.4286e-04 - mean_absolute_error: 0.0169\n",
            "Epoch 45/100\n",
            "156/156 [==============================] - 3s 18ms/step - loss: 7.3829e-04 - mean_absolute_error: 0.0168\n",
            "Epoch 46/100\n",
            "156/156 [==============================] - 3s 18ms/step - loss: 7.0022e-04 - mean_absolute_error: 0.0167\n",
            "Epoch 47/100\n",
            "156/156 [==============================] - 3s 18ms/step - loss: 7.1391e-04 - mean_absolute_error: 0.0170\n",
            "Epoch 48/100\n",
            "156/156 [==============================] - 3s 18ms/step - loss: 7.1337e-04 - mean_absolute_error: 0.0169\n",
            "Epoch 49/100\n",
            "156/156 [==============================] - 3s 18ms/step - loss: 6.8056e-04 - mean_absolute_error: 0.0166\n",
            "Epoch 50/100\n",
            "156/156 [==============================] - 3s 18ms/step - loss: 7.3909e-04 - mean_absolute_error: 0.0170\n",
            "Epoch 51/100\n",
            "156/156 [==============================] - 3s 18ms/step - loss: 7.1177e-04 - mean_absolute_error: 0.0166\n",
            "Epoch 52/100\n",
            "156/156 [==============================] - 3s 18ms/step - loss: 6.9500e-04 - mean_absolute_error: 0.0165\n",
            "Epoch 53/100\n",
            "156/156 [==============================] - 3s 18ms/step - loss: 6.7404e-04 - mean_absolute_error: 0.0164\n",
            "Epoch 54/100\n",
            "156/156 [==============================] - 3s 18ms/step - loss: 6.8693e-04 - mean_absolute_error: 0.0166\n",
            "Epoch 55/100\n",
            "156/156 [==============================] - 3s 18ms/step - loss: 6.9087e-04 - mean_absolute_error: 0.0163\n",
            "Epoch 56/100\n",
            "156/156 [==============================] - 3s 18ms/step - loss: 6.6283e-04 - mean_absolute_error: 0.0162\n",
            "Epoch 57/100\n",
            "156/156 [==============================] - 3s 18ms/step - loss: 6.6110e-04 - mean_absolute_error: 0.0163\n",
            "Epoch 58/100\n",
            "156/156 [==============================] - 3s 18ms/step - loss: 6.7722e-04 - mean_absolute_error: 0.0164\n",
            "Epoch 59/100\n",
            "156/156 [==============================] - 3s 18ms/step - loss: 6.7114e-04 - mean_absolute_error: 0.0162\n",
            "Epoch 60/100\n",
            "156/156 [==============================] - 3s 18ms/step - loss: 6.5446e-04 - mean_absolute_error: 0.0158\n",
            "Epoch 61/100\n",
            "156/156 [==============================] - 3s 18ms/step - loss: 6.7226e-04 - mean_absolute_error: 0.0160\n",
            "Epoch 62/100\n",
            "156/156 [==============================] - 3s 18ms/step - loss: 6.4890e-04 - mean_absolute_error: 0.0160\n",
            "Epoch 63/100\n",
            "156/156 [==============================] - 3s 18ms/step - loss: 6.9514e-04 - mean_absolute_error: 0.0163\n",
            "Epoch 64/100\n",
            "156/156 [==============================] - 3s 18ms/step - loss: 6.7721e-04 - mean_absolute_error: 0.0161\n",
            "Epoch 65/100\n",
            "156/156 [==============================] - 3s 18ms/step - loss: 7.2768e-04 - mean_absolute_error: 0.0166\n",
            "Epoch 66/100\n",
            "156/156 [==============================] - 3s 18ms/step - loss: 6.5339e-04 - mean_absolute_error: 0.0158\n",
            "Epoch 67/100\n",
            "156/156 [==============================] - 3s 18ms/step - loss: 6.7856e-04 - mean_absolute_error: 0.0161\n",
            "Epoch 68/100\n",
            "156/156 [==============================] - 3s 18ms/step - loss: 6.3981e-04 - mean_absolute_error: 0.0156\n",
            "Epoch 69/100\n",
            "156/156 [==============================] - 3s 18ms/step - loss: 6.8253e-04 - mean_absolute_error: 0.0162\n",
            "Epoch 70/100\n",
            "156/156 [==============================] - 3s 18ms/step - loss: 6.4213e-04 - mean_absolute_error: 0.0158\n",
            "Epoch 71/100\n",
            "156/156 [==============================] - 3s 18ms/step - loss: 6.6928e-04 - mean_absolute_error: 0.0158\n",
            "Epoch 72/100\n",
            "156/156 [==============================] - 3s 18ms/step - loss: 6.5401e-04 - mean_absolute_error: 0.0158\n",
            "Epoch 73/100\n",
            "156/156 [==============================] - 3s 18ms/step - loss: 6.3735e-04 - mean_absolute_error: 0.0157\n",
            "Epoch 74/100\n",
            "156/156 [==============================] - 3s 18ms/step - loss: 6.6392e-04 - mean_absolute_error: 0.0159\n",
            "Epoch 75/100\n",
            "156/156 [==============================] - 3s 18ms/step - loss: 6.6193e-04 - mean_absolute_error: 0.0157\n",
            "Epoch 76/100\n",
            "156/156 [==============================] - 3s 18ms/step - loss: 6.2670e-04 - mean_absolute_error: 0.0155\n",
            "Epoch 77/100\n",
            "156/156 [==============================] - 3s 18ms/step - loss: 6.3418e-04 - mean_absolute_error: 0.0157\n",
            "Epoch 78/100\n",
            "156/156 [==============================] - 3s 19ms/step - loss: 6.7736e-04 - mean_absolute_error: 0.0159\n",
            "Epoch 79/100\n",
            "156/156 [==============================] - 3s 18ms/step - loss: 6.3051e-04 - mean_absolute_error: 0.0155\n",
            "Epoch 80/100\n",
            "156/156 [==============================] - 3s 18ms/step - loss: 6.3623e-04 - mean_absolute_error: 0.0156\n",
            "Epoch 81/100\n",
            "156/156 [==============================] - 3s 18ms/step - loss: 6.6664e-04 - mean_absolute_error: 0.0157\n",
            "Epoch 82/100\n",
            "156/156 [==============================] - 3s 18ms/step - loss: 6.3258e-04 - mean_absolute_error: 0.0154\n",
            "Epoch 83/100\n",
            "156/156 [==============================] - 3s 18ms/step - loss: 6.3281e-04 - mean_absolute_error: 0.0153\n",
            "Epoch 84/100\n",
            "156/156 [==============================] - 3s 18ms/step - loss: 6.2788e-04 - mean_absolute_error: 0.0154\n",
            "Epoch 85/100\n",
            "156/156 [==============================] - 3s 18ms/step - loss: 6.5804e-04 - mean_absolute_error: 0.0158\n",
            "Epoch 86/100\n",
            "156/156 [==============================] - 3s 18ms/step - loss: 6.3157e-04 - mean_absolute_error: 0.0153\n",
            "Epoch 87/100\n",
            "156/156 [==============================] - 3s 18ms/step - loss: 6.4910e-04 - mean_absolute_error: 0.0154\n",
            "Epoch 88/100\n",
            "156/156 [==============================] - 3s 19ms/step - loss: 6.5593e-04 - mean_absolute_error: 0.0154\n",
            "Epoch 89/100\n",
            "156/156 [==============================] - 3s 19ms/step - loss: 6.1801e-04 - mean_absolute_error: 0.0152\n",
            "Epoch 90/100\n",
            "156/156 [==============================] - 3s 19ms/step - loss: 6.4363e-04 - mean_absolute_error: 0.0156\n",
            "Epoch 91/100\n",
            "156/156 [==============================] - 3s 19ms/step - loss: 6.3699e-04 - mean_absolute_error: 0.0154\n",
            "Epoch 92/100\n",
            "156/156 [==============================] - 3s 18ms/step - loss: 6.4626e-04 - mean_absolute_error: 0.0156\n",
            "Epoch 93/100\n",
            "156/156 [==============================] - 3s 18ms/step - loss: 6.2951e-04 - mean_absolute_error: 0.0153\n",
            "Epoch 94/100\n",
            "156/156 [==============================] - 3s 18ms/step - loss: 6.2212e-04 - mean_absolute_error: 0.0151\n",
            "Epoch 95/100\n",
            "156/156 [==============================] - 3s 18ms/step - loss: 6.3207e-04 - mean_absolute_error: 0.0151\n",
            "Epoch 96/100\n",
            "156/156 [==============================] - 3s 18ms/step - loss: 6.3434e-04 - mean_absolute_error: 0.0155\n",
            "Epoch 97/100\n",
            "156/156 [==============================] - 3s 18ms/step - loss: 6.2330e-04 - mean_absolute_error: 0.0152\n",
            "Epoch 98/100\n",
            "156/156 [==============================] - 3s 18ms/step - loss: 6.2787e-04 - mean_absolute_error: 0.0153\n",
            "Epoch 99/100\n",
            "156/156 [==============================] - 3s 19ms/step - loss: 6.3759e-04 - mean_absolute_error: 0.0153\n",
            "Epoch 100/100\n",
            "156/156 [==============================] - 3s 18ms/step - loss: 6.2235e-04 - mean_absolute_error: 0.0153\n"
          ],
          "name": "stdout"
        }
      ]
    },
    {
      "cell_type": "code",
      "metadata": {
        "id": "XvqAj-5nAY6_",
        "colab_type": "code",
        "colab": {
          "base_uri": "https://localhost:8080/",
          "height": 1000
        },
        "outputId": "1a602d81-3728-4d47-ba6c-980468bf1978"
      },
      "source": [
        "historico_epocas.history['mean_absolute_error']"
      ],
      "execution_count": 78,
      "outputs": [
        {
          "output_type": "execute_result",
          "data": {
            "text/plain": [
              "[0.04957199841737747,\n",
              " 0.03510380536317825,\n",
              " 0.03109191730618477,\n",
              " 0.028714707121253014,\n",
              " 0.026906035840511322,\n",
              " 0.025151418522000313,\n",
              " 0.02480245567858219,\n",
              " 0.023919928818941116,\n",
              " 0.02300238609313965,\n",
              " 0.02290441282093525,\n",
              " 0.02200162224471569,\n",
              " 0.021837912499904633,\n",
              " 0.020971165969967842,\n",
              " 0.020849213004112244,\n",
              " 0.02051430195569992,\n",
              " 0.020083943381905556,\n",
              " 0.019984813407063484,\n",
              " 0.0198749341070652,\n",
              " 0.0195566788315773,\n",
              " 0.01941176876425743,\n",
              " 0.018977172672748566,\n",
              " 0.01911274529993534,\n",
              " 0.019135111942887306,\n",
              " 0.018856974318623543,\n",
              " 0.018432103097438812,\n",
              " 0.018613917753100395,\n",
              " 0.01819208823144436,\n",
              " 0.018382303416728973,\n",
              " 0.018508367240428925,\n",
              " 0.01812615618109703,\n",
              " 0.017912322655320168,\n",
              " 0.017861854285001755,\n",
              " 0.01780754327774048,\n",
              " 0.017692796885967255,\n",
              " 0.017450109124183655,\n",
              " 0.017679743468761444,\n",
              " 0.017161153256893158,\n",
              " 0.017523949965834618,\n",
              " 0.016882555559277534,\n",
              " 0.017211711034178734,\n",
              " 0.01719198375940323,\n",
              " 0.017357492819428444,\n",
              " 0.016903698444366455,\n",
              " 0.01687389612197876,\n",
              " 0.016769826412200928,\n",
              " 0.016729488968849182,\n",
              " 0.016986241564154625,\n",
              " 0.016905320808291435,\n",
              " 0.016632476821541786,\n",
              " 0.016996335238218307,\n",
              " 0.016646673902869225,\n",
              " 0.01652933843433857,\n",
              " 0.016431206837296486,\n",
              " 0.016599202528595924,\n",
              " 0.016295429319143295,\n",
              " 0.016176914796233177,\n",
              " 0.016325902193784714,\n",
              " 0.016379551962018013,\n",
              " 0.016236985102295876,\n",
              " 0.015845680609345436,\n",
              " 0.015969116240739822,\n",
              " 0.015977010130882263,\n",
              " 0.016257796436548233,\n",
              " 0.016096066683530807,\n",
              " 0.016571320593357086,\n",
              " 0.015762407332658768,\n",
              " 0.01611470803618431,\n",
              " 0.015592859126627445,\n",
              " 0.01616187021136284,\n",
              " 0.015750830993056297,\n",
              " 0.015813779085874557,\n",
              " 0.0158491600304842,\n",
              " 0.015720760449767113,\n",
              " 0.015857473015785217,\n",
              " 0.015698716044425964,\n",
              " 0.015544132329523563,\n",
              " 0.015746980905532837,\n",
              " 0.01585613377392292,\n",
              " 0.015482497401535511,\n",
              " 0.01556819211691618,\n",
              " 0.015679839998483658,\n",
              " 0.015432244166731834,\n",
              " 0.015327787958085537,\n",
              " 0.015448790974915028,\n",
              " 0.015823448076844215,\n",
              " 0.015298862010240555,\n",
              " 0.015392452478408813,\n",
              " 0.015417912043631077,\n",
              " 0.015217353589832783,\n",
              " 0.015558830462396145,\n",
              " 0.015387711115181446,\n",
              " 0.015623199753463268,\n",
              " 0.01531260460615158,\n",
              " 0.015057039447128773,\n",
              " 0.015143266879022121,\n",
              " 0.015513353049755096,\n",
              " 0.015239591710269451,\n",
              " 0.01529164519160986,\n",
              " 0.015305763110518456,\n",
              " 0.015317498706281185]"
            ]
          },
          "metadata": {
            "tags": []
          },
          "execution_count": 78
        }
      ]
    },
    {
      "cell_type": "code",
      "metadata": {
        "id": "ujzYID_RBxk2",
        "colab_type": "code",
        "colab": {
          "base_uri": "https://localhost:8080/",
          "height": 1000
        },
        "outputId": "4aef1947-f6d2-46b1-e540-b6a578971c70"
      },
      "source": [
        "historico_epocas.history['loss']"
      ],
      "execution_count": 79,
      "outputs": [
        {
          "output_type": "execute_result",
          "data": {
            "text/plain": [
              "[0.005724961869418621,\n",
              " 0.002660991158336401,\n",
              " 0.002072200644761324,\n",
              " 0.001782884355634451,\n",
              " 0.0014835447072982788,\n",
              " 0.0013690381310880184,\n",
              " 0.0013330061919987202,\n",
              " 0.0012334404746070504,\n",
              " 0.001224262174218893,\n",
              " 0.0011621671728789806,\n",
              " 0.0010981763480231166,\n",
              " 0.0010881883790716529,\n",
              " 0.00102514517493546,\n",
              " 0.0010192787740379572,\n",
              " 0.0009834133088588715,\n",
              " 0.0009452476515434682,\n",
              " 0.0009142661583609879,\n",
              " 0.0009398492984473705,\n",
              " 0.0008829790749587119,\n",
              " 0.0009139602771028876,\n",
              " 0.000856453669257462,\n",
              " 0.0008687824592925608,\n",
              " 0.0008655805722810328,\n",
              " 0.0008527961326763034,\n",
              " 0.0008182813180610538,\n",
              " 0.0008370018913410604,\n",
              " 0.0008124836604110897,\n",
              " 0.0008123103762045503,\n",
              " 0.0008289499673992395,\n",
              " 0.0007957298657856882,\n",
              " 0.0007605868158861995,\n",
              " 0.0007673277868889272,\n",
              " 0.0007707166369073093,\n",
              " 0.0007804146152921021,\n",
              " 0.0007882972713559866,\n",
              " 0.000778150511905551,\n",
              " 0.0007274791714735329,\n",
              " 0.0007490906864404678,\n",
              " 0.0007135204505175352,\n",
              " 0.0007419614703394473,\n",
              " 0.0007633345085196197,\n",
              " 0.000740993651561439,\n",
              " 0.0007205096771940589,\n",
              " 0.0007428586832247674,\n",
              " 0.0007382896146737039,\n",
              " 0.000700219243299216,\n",
              " 0.0007139052613638341,\n",
              " 0.0007133661420084536,\n",
              " 0.0006805571028962731,\n",
              " 0.0007390922983177006,\n",
              " 0.0007117658387869596,\n",
              " 0.0006950012175366282,\n",
              " 0.0006740373792126775,\n",
              " 0.000686931365635246,\n",
              " 0.0006908748764544725,\n",
              " 0.0006628289702348411,\n",
              " 0.000661100959405303,\n",
              " 0.0006772220367565751,\n",
              " 0.0006711366004310548,\n",
              " 0.000654462375678122,\n",
              " 0.0006722646648995578,\n",
              " 0.0006489033694379032,\n",
              " 0.0006951390532776713,\n",
              " 0.0006772124907001853,\n",
              " 0.0007276759715750813,\n",
              " 0.0006533851847052574,\n",
              " 0.0006785592413507402,\n",
              " 0.0006398134282790124,\n",
              " 0.0006825251039117575,\n",
              " 0.0006421302095986903,\n",
              " 0.0006692822789773345,\n",
              " 0.0006540074828080833,\n",
              " 0.0006373455398716033,\n",
              " 0.0006639191997237504,\n",
              " 0.0006619275663979352,\n",
              " 0.000626703433226794,\n",
              " 0.0006341802072711289,\n",
              " 0.0006773557979613543,\n",
              " 0.0006305077113211155,\n",
              " 0.0006362347048707306,\n",
              " 0.0006666426779702306,\n",
              " 0.0006325819995254278,\n",
              " 0.0006328055751509964,\n",
              " 0.0006278754444792867,\n",
              " 0.0006580433109775186,\n",
              " 0.0006315745995379984,\n",
              " 0.000649101275485009,\n",
              " 0.000655925425235182,\n",
              " 0.0006180115160532296,\n",
              " 0.0006436256808228791,\n",
              " 0.0006369888433255255,\n",
              " 0.000646255852188915,\n",
              " 0.0006295132334344089,\n",
              " 0.0006221192888915539,\n",
              " 0.0006320748943835497,\n",
              " 0.0006343419081531465,\n",
              " 0.0006232966552488506,\n",
              " 0.0006278675864450634,\n",
              " 0.0006375948432832956,\n",
              " 0.0006223462987691164]"
            ]
          },
          "metadata": {
            "tags": []
          },
          "execution_count": 79
        }
      ]
    },
    {
      "cell_type": "code",
      "metadata": {
        "id": "yG0BQSaPByra",
        "colab_type": "code",
        "colab": {}
      },
      "source": [
        "base_teste = pd.read_csv('/content/drive/My Drive/curso_fundamentos_de_deep_learning_A/12_LSTM/PETR4SA_baixado08setembro2020_teste.csv')"
      ],
      "execution_count": 83,
      "outputs": []
    },
    {
      "cell_type": "code",
      "metadata": {
        "id": "VnNs5OHZC1fV",
        "colab_type": "code",
        "colab": {
          "base_uri": "https://localhost:8080/",
          "height": 206
        },
        "outputId": "e634bd3a-09d5-4222-97ad-047023c7602b"
      },
      "source": [
        "base_teste.head()"
      ],
      "execution_count": 84,
      "outputs": [
        {
          "output_type": "execute_result",
          "data": {
            "text/html": [
              "<div>\n",
              "<style scoped>\n",
              "    .dataframe tbody tr th:only-of-type {\n",
              "        vertical-align: middle;\n",
              "    }\n",
              "\n",
              "    .dataframe tbody tr th {\n",
              "        vertical-align: top;\n",
              "    }\n",
              "\n",
              "    .dataframe thead th {\n",
              "        text-align: right;\n",
              "    }\n",
              "</style>\n",
              "<table border=\"1\" class=\"dataframe\">\n",
              "  <thead>\n",
              "    <tr style=\"text-align: right;\">\n",
              "      <th></th>\n",
              "      <th>Date</th>\n",
              "      <th>Open</th>\n",
              "      <th>High</th>\n",
              "      <th>Low</th>\n",
              "      <th>Close</th>\n",
              "      <th>Adj Close</th>\n",
              "      <th>Volume</th>\n",
              "    </tr>\n",
              "  </thead>\n",
              "  <tbody>\n",
              "    <tr>\n",
              "      <th>0</th>\n",
              "      <td>2020-08-06</td>\n",
              "      <td>23.280001</td>\n",
              "      <td>23.530001</td>\n",
              "      <td>23.010000</td>\n",
              "      <td>23.219999</td>\n",
              "      <td>23.219999</td>\n",
              "      <td>56375100</td>\n",
              "    </tr>\n",
              "    <tr>\n",
              "      <th>1</th>\n",
              "      <td>2020-08-07</td>\n",
              "      <td>22.860001</td>\n",
              "      <td>22.910000</td>\n",
              "      <td>22.549999</td>\n",
              "      <td>22.790001</td>\n",
              "      <td>22.790001</td>\n",
              "      <td>56040200</td>\n",
              "    </tr>\n",
              "    <tr>\n",
              "      <th>2</th>\n",
              "      <td>2020-08-10</td>\n",
              "      <td>22.900000</td>\n",
              "      <td>23.450001</td>\n",
              "      <td>22.639999</td>\n",
              "      <td>23.450001</td>\n",
              "      <td>23.450001</td>\n",
              "      <td>52390100</td>\n",
              "    </tr>\n",
              "    <tr>\n",
              "      <th>3</th>\n",
              "      <td>2020-08-11</td>\n",
              "      <td>23.709999</td>\n",
              "      <td>23.879999</td>\n",
              "      <td>23.059999</td>\n",
              "      <td>23.080000</td>\n",
              "      <td>23.080000</td>\n",
              "      <td>66342300</td>\n",
              "    </tr>\n",
              "    <tr>\n",
              "      <th>4</th>\n",
              "      <td>2020-08-12</td>\n",
              "      <td>23.360001</td>\n",
              "      <td>23.680000</td>\n",
              "      <td>23.080000</td>\n",
              "      <td>23.480000</td>\n",
              "      <td>23.480000</td>\n",
              "      <td>67008500</td>\n",
              "    </tr>\n",
              "  </tbody>\n",
              "</table>\n",
              "</div>"
            ],
            "text/plain": [
              "         Date       Open       High        Low      Close  Adj Close    Volume\n",
              "0  2020-08-06  23.280001  23.530001  23.010000  23.219999  23.219999  56375100\n",
              "1  2020-08-07  22.860001  22.910000  22.549999  22.790001  22.790001  56040200\n",
              "2  2020-08-10  22.900000  23.450001  22.639999  23.450001  23.450001  52390100\n",
              "3  2020-08-11  23.709999  23.879999  23.059999  23.080000  23.080000  66342300\n",
              "4  2020-08-12  23.360001  23.680000  23.080000  23.480000  23.480000  67008500"
            ]
          },
          "metadata": {
            "tags": []
          },
          "execution_count": 84
        }
      ]
    },
    {
      "cell_type": "code",
      "metadata": {
        "id": "SmOILYBUCAPU",
        "colab_type": "code",
        "colab": {}
      },
      "source": [
        "preco_real_teste = base_teste.iloc[:, 1:2].values"
      ],
      "execution_count": 81,
      "outputs": []
    },
    {
      "cell_type": "code",
      "metadata": {
        "id": "JCNP6eTNCeBv",
        "colab_type": "code",
        "colab": {
          "base_uri": "https://localhost:8080/",
          "height": 36
        },
        "outputId": "7bf28ae1-dce7-42db-f9bd-a37e9954947f"
      },
      "source": [
        "preco_real_teste.shape"
      ],
      "execution_count": 82,
      "outputs": [
        {
          "output_type": "execute_result",
          "data": {
            "text/plain": [
              "(22, 1)"
            ]
          },
          "metadata": {
            "tags": []
          },
          "execution_count": 82
        }
      ]
    },
    {
      "cell_type": "code",
      "metadata": {
        "id": "SLaNoi6ZCffu",
        "colab_type": "code",
        "colab": {}
      },
      "source": [
        "base_completa = pd.concat((acoes['Open'], base_teste['Open']), axis=0)"
      ],
      "execution_count": 85,
      "outputs": []
    },
    {
      "cell_type": "code",
      "metadata": {
        "id": "46tN66L3DAmq",
        "colab_type": "code",
        "colab": {
          "base_uri": "https://localhost:8080/",
          "height": 241
        },
        "outputId": "f415eed1-15b6-4734-dfac-9b352aa3b74e"
      },
      "source": [
        "base_completa"
      ],
      "execution_count": 86,
      "outputs": [
        {
          "output_type": "execute_result",
          "data": {
            "text/plain": [
              "0      5.875000\n",
              "1      5.550000\n",
              "2      5.494000\n",
              "3      5.475000\n",
              "4      5.500000\n",
              "        ...    \n",
              "17    22.320000\n",
              "18    22.200001\n",
              "19    22.930000\n",
              "20    22.610001\n",
              "21    23.000000\n",
              "Name: Open, Length: 5205, dtype: float64"
            ]
          },
          "metadata": {
            "tags": []
          },
          "execution_count": 86
        }
      ]
    },
    {
      "cell_type": "code",
      "metadata": {
        "id": "jqbVr5dbDBkN",
        "colab_type": "code",
        "colab": {
          "base_uri": "https://localhost:8080/",
          "height": 36
        },
        "outputId": "4014ec72-3b20-42ed-8b26-2ea79ee97840"
      },
      "source": [
        "base_completa.shape"
      ],
      "execution_count": 87,
      "outputs": [
        {
          "output_type": "execute_result",
          "data": {
            "text/plain": [
              "(5205,)"
            ]
          },
          "metadata": {
            "tags": []
          },
          "execution_count": 87
        }
      ]
    },
    {
      "cell_type": "code",
      "metadata": {
        "id": "KE5wmdYUDE07",
        "colab_type": "code",
        "colab": {
          "base_uri": "https://localhost:8080/",
          "height": 36
        },
        "outputId": "f07d8705-f3a6-43b0-cc11-44df2c70a701"
      },
      "source": [
        "base_teste.shape"
      ],
      "execution_count": 88,
      "outputs": [
        {
          "output_type": "execute_result",
          "data": {
            "text/plain": [
              "(22, 7)"
            ]
          },
          "metadata": {
            "tags": []
          },
          "execution_count": 88
        }
      ]
    },
    {
      "cell_type": "code",
      "metadata": {
        "id": "RrBYOKGbDIZT",
        "colab_type": "code",
        "colab": {
          "base_uri": "https://localhost:8080/",
          "height": 36
        },
        "outputId": "6ac06925-07cd-415b-8733-a81618eb9e96"
      },
      "source": [
        "acoes.shape"
      ],
      "execution_count": 89,
      "outputs": [
        {
          "output_type": "execute_result",
          "data": {
            "text/plain": [
              "(5183, 7)"
            ]
          },
          "metadata": {
            "tags": []
          },
          "execution_count": 89
        }
      ]
    },
    {
      "cell_type": "code",
      "metadata": {
        "id": "IJqP-MooDKv7",
        "colab_type": "code",
        "colab": {
          "base_uri": "https://localhost:8080/",
          "height": 36
        },
        "outputId": "9513acb2-fa0f-4442-e782-3afa493dd7e4"
      },
      "source": [
        "tam_base_completa = len(base_completa)\n",
        "tam_base_completa"
      ],
      "execution_count": 92,
      "outputs": [
        {
          "output_type": "execute_result",
          "data": {
            "text/plain": [
              "5205"
            ]
          },
          "metadata": {
            "tags": []
          },
          "execution_count": 92
        }
      ]
    },
    {
      "cell_type": "code",
      "metadata": {
        "id": "oee4pusuDvx-",
        "colab_type": "code",
        "colab": {
          "base_uri": "https://localhost:8080/",
          "height": 36
        },
        "outputId": "c4d5ea18-b06d-4cb9-f7ae-c499af0ba065"
      },
      "source": [
        "tam_base_teste = len(base_teste)\n",
        "tam_base_teste"
      ],
      "execution_count": 93,
      "outputs": [
        {
          "output_type": "execute_result",
          "data": {
            "text/plain": [
              "22"
            ]
          },
          "metadata": {
            "tags": []
          },
          "execution_count": 93
        }
      ]
    },
    {
      "cell_type": "code",
      "metadata": {
        "id": "tjNDrmu2D0xX",
        "colab_type": "code",
        "colab": {}
      },
      "source": [
        "entradas = base_completa[ tam_base_completa - tam_base_teste - 90   :  ].values"
      ],
      "execution_count": 94,
      "outputs": []
    },
    {
      "cell_type": "code",
      "metadata": {
        "id": "cO4fU1uEFFZI",
        "colab_type": "code",
        "colab": {
          "base_uri": "https://localhost:8080/",
          "height": 36
        },
        "outputId": "9a9f9cda-3462-411e-8a11-13b665ef7a1a"
      },
      "source": [
        "entradas.shape # "
      ],
      "execution_count": 95,
      "outputs": [
        {
          "output_type": "execute_result",
          "data": {
            "text/plain": [
              "(112,)"
            ]
          },
          "metadata": {
            "tags": []
          },
          "execution_count": 95
        }
      ]
    },
    {
      "cell_type": "code",
      "metadata": {
        "id": "HDsvUBijFGmc",
        "colab_type": "code",
        "colab": {
          "base_uri": "https://localhost:8080/",
          "height": 36
        },
        "outputId": "b7b4f61c-8bcc-4cc6-a7ca-2483720616db"
      },
      "source": [
        "90 + 22"
      ],
      "execution_count": 97,
      "outputs": [
        {
          "output_type": "execute_result",
          "data": {
            "text/plain": [
              "112"
            ]
          },
          "metadata": {
            "tags": []
          },
          "execution_count": 97
        }
      ]
    },
    {
      "cell_type": "code",
      "metadata": {
        "id": "qgLjCJZ9FPZI",
        "colab_type": "code",
        "colab": {}
      },
      "source": [
        "entradas = entradas.reshape(-1, 1) "
      ],
      "execution_count": 98,
      "outputs": []
    },
    {
      "cell_type": "code",
      "metadata": {
        "id": "j7epxlo3FX9O",
        "colab_type": "code",
        "colab": {
          "base_uri": "https://localhost:8080/",
          "height": 36
        },
        "outputId": "07f4be45-85b0-493b-8a18-e8a1b755d78a"
      },
      "source": [
        "entradas.shape"
      ],
      "execution_count": 100,
      "outputs": [
        {
          "output_type": "execute_result",
          "data": {
            "text/plain": [
              "(112, 1)"
            ]
          },
          "metadata": {
            "tags": []
          },
          "execution_count": 100
        }
      ]
    },
    {
      "cell_type": "code",
      "metadata": {
        "id": "cwUvP0R5Fapy",
        "colab_type": "code",
        "colab": {}
      },
      "source": [
        "entradas = normalizador.transform(entradas)"
      ],
      "execution_count": 101,
      "outputs": []
    },
    {
      "cell_type": "code",
      "metadata": {
        "id": "4qCvmuXtFgVk",
        "colab_type": "code",
        "colab": {}
      },
      "source": [
        "X_teste = []"
      ],
      "execution_count": 102,
      "outputs": []
    },
    {
      "cell_type": "code",
      "metadata": {
        "id": "ybwfxs-5FmOb",
        "colab_type": "code",
        "colab": {}
      },
      "source": [
        "for i in range(90, 112):\n",
        "  X_teste.append(entradas[ i-90:i, 0 ])  # adicionando 90 em 90 elementos no X_teste"
      ],
      "execution_count": 108,
      "outputs": []
    },
    {
      "cell_type": "code",
      "metadata": {
        "id": "_WHQ9acVGV_V",
        "colab_type": "code",
        "colab": {
          "base_uri": "https://localhost:8080/",
          "height": 36
        },
        "outputId": "11a41706-2fbe-4e57-e733-e71f69cf5d99"
      },
      "source": [
        "X_teste[1].shape"
      ],
      "execution_count": 112,
      "outputs": [
        {
          "output_type": "execute_result",
          "data": {
            "text/plain": [
              "(90,)"
            ]
          },
          "metadata": {
            "tags": []
          },
          "execution_count": 112
        }
      ]
    },
    {
      "cell_type": "code",
      "metadata": {
        "id": "aC2FsgkPGdNE",
        "colab_type": "code",
        "colab": {}
      },
      "source": [
        "X_teste = np.array(X_teste)"
      ],
      "execution_count": 113,
      "outputs": []
    },
    {
      "cell_type": "code",
      "metadata": {
        "id": "Td66TOoQGhHD",
        "colab_type": "code",
        "colab": {
          "base_uri": "https://localhost:8080/",
          "height": 36
        },
        "outputId": "f4135918-a077-4bc8-8e63-53a2e491d5c4"
      },
      "source": [
        "X_teste.shape # são 22 linhas do dataset de teste e cada linha terá 90 colunas"
      ],
      "execution_count": 117,
      "outputs": [
        {
          "output_type": "execute_result",
          "data": {
            "text/plain": [
              "(22, 90)"
            ]
          },
          "metadata": {
            "tags": []
          },
          "execution_count": 117
        }
      ]
    },
    {
      "cell_type": "code",
      "metadata": {
        "id": "co9tUy7HHPrm",
        "colab_type": "code",
        "colab": {}
      },
      "source": [
        "# https://keras.io/api/layers/recurrent_layers/lstm/\n",
        "# inputs: A 3D tensor with shape [batch, timesteps, feature].\n",
        "batch_teste=X_teste.shape[0]"
      ],
      "execution_count": 119,
      "outputs": []
    },
    {
      "cell_type": "code",
      "metadata": {
        "id": "0HrE-j6BHTNv",
        "colab_type": "code",
        "colab": {}
      },
      "source": [
        "timesteps_teste=X_teste.shape[1]"
      ],
      "execution_count": 121,
      "outputs": []
    },
    {
      "cell_type": "code",
      "metadata": {
        "id": "75hQcEoSG4lC",
        "colab_type": "code",
        "colab": {}
      },
      "source": [
        "feature_teste=1"
      ],
      "execution_count": 123,
      "outputs": []
    },
    {
      "cell_type": "code",
      "metadata": {
        "id": "wpoeUVgZHzCk",
        "colab_type": "code",
        "colab": {}
      },
      "source": [
        "X_teste=np.reshape(X_teste, (batch_teste, timesteps_teste, feature_teste))"
      ],
      "execution_count": 124,
      "outputs": []
    },
    {
      "cell_type": "code",
      "metadata": {
        "id": "FkB98nqZH7Mp",
        "colab_type": "code",
        "colab": {
          "base_uri": "https://localhost:8080/",
          "height": 36
        },
        "outputId": "b031881f-12a2-4084-df6c-61939c27e3af"
      },
      "source": [
        "X_teste.shape"
      ],
      "execution_count": 125,
      "outputs": [
        {
          "output_type": "execute_result",
          "data": {
            "text/plain": [
              "(22, 90, 1)"
            ]
          },
          "metadata": {
            "tags": []
          },
          "execution_count": 125
        }
      ]
    },
    {
      "cell_type": "code",
      "metadata": {
        "id": "lD26zG3SGiCo",
        "colab_type": "code",
        "colab": {}
      },
      "source": [
        "previsoes = modelo_acao_petrobras.predict(X_teste)"
      ],
      "execution_count": 126,
      "outputs": []
    },
    {
      "cell_type": "code",
      "metadata": {
        "id": "NsIN0eY9IAtl",
        "colab_type": "code",
        "colab": {
          "base_uri": "https://localhost:8080/",
          "height": 428
        },
        "outputId": "088adbae-585a-416c-89df-166385159ec7"
      },
      "source": [
        "previsoes"
      ],
      "execution_count": 128,
      "outputs": [
        {
          "output_type": "execute_result",
          "data": {
            "text/plain": [
              "array([[0.28688028],\n",
              "       [0.30218765],\n",
              "       [0.30280098],\n",
              "       [0.30232862],\n",
              "       [0.31091198],\n",
              "       [0.30951512],\n",
              "       [0.31012952],\n",
              "       [0.30189273],\n",
              "       [0.298657  ],\n",
              "       [0.30139452],\n",
              "       [0.30335802],\n",
              "       [0.29861963],\n",
              "       [0.29691237],\n",
              "       [0.30009478],\n",
              "       [0.30412415],\n",
              "       [0.30141866],\n",
              "       [0.29437107],\n",
              "       [0.29113084],\n",
              "       [0.29144368],\n",
              "       [0.29072404],\n",
              "       [0.29941905],\n",
              "       [0.29839486]], dtype=float32)"
            ]
          },
          "metadata": {
            "tags": []
          },
          "execution_count": 128
        }
      ]
    },
    {
      "cell_type": "code",
      "metadata": {
        "id": "FELc5uAVILuL",
        "colab_type": "code",
        "colab": {}
      },
      "source": [
        "previsoes = normalizador.inverse_transform(previsoes)"
      ],
      "execution_count": 129,
      "outputs": []
    },
    {
      "cell_type": "code",
      "metadata": {
        "id": "ojGydrXvIRk3",
        "colab_type": "code",
        "colab": {
          "base_uri": "https://localhost:8080/",
          "height": 428
        },
        "outputId": "56fdb9b4-2225-4f63-98f9-7a1bc9e6e339"
      },
      "source": [
        "previsoes"
      ],
      "execution_count": 130,
      "outputs": [
        {
          "output_type": "execute_result",
          "data": {
            "text/plain": [
              "array([[22.359522],\n",
              "       [23.328478],\n",
              "       [23.367302],\n",
              "       [23.3374  ],\n",
              "       [23.880728],\n",
              "       [23.792307],\n",
              "       [23.831198],\n",
              "       [23.309809],\n",
              "       [23.104988],\n",
              "       [23.278273],\n",
              "       [23.402561],\n",
              "       [23.102621],\n",
              "       [22.994553],\n",
              "       [23.196   ],\n",
              "       [23.451057],\n",
              "       [23.2798  ],\n",
              "       [22.833689],\n",
              "       [22.628582],\n",
              "       [22.648384],\n",
              "       [22.60283 ],\n",
              "       [23.153225],\n",
              "       [23.088394]], dtype=float32)"
            ]
          },
          "metadata": {
            "tags": []
          },
          "execution_count": 130
        }
      ]
    },
    {
      "cell_type": "code",
      "metadata": {
        "id": "NDK6FiYoISb7",
        "colab_type": "code",
        "colab": {
          "base_uri": "https://localhost:8080/",
          "height": 295
        },
        "outputId": "f9f80ec5-c768-4f0b-add3-19384c116686"
      },
      "source": [
        "plt.plot(preco_real_teste, color='red', label='Preço Real')\n",
        "plt.plot(previsoes, color='blue', label='Previsões')\n",
        "plt.title('Previsões da ação da petrobrás PETR4')\n",
        "plt.xlabel('Tempo')\n",
        "plt.ylabel('Valor que obtivemos do yahoo')\n",
        "plt.show()"
      ],
      "execution_count": 132,
      "outputs": [
        {
          "output_type": "display_data",
          "data": {
            "image/png": "[encoded data removed]",
            "text/plain": [
              "<Figure size 432x288 with 1 Axes>"
            ]
          },
          "metadata": {
            "tags": [],
            "needs_background": "light"
          }
        }
      ]
    },
    {
      "cell_type": "code",
      "metadata": {
        "id": "DMMye9r4I7xm",
        "colab_type": "code",
        "colab": {
          "base_uri": "https://localhost:8080/",
          "height": 36
        },
        "outputId": "b3d9892c-02d8-4a8f-9524-13eef6d78f80"
      },
      "source": [
        "from sklearn.metrics import mean_squared_error, mean_absolute_error\n",
        "from math import sqrt\n",
        "\n",
        "MSE = mean_squared_error(preco_real_teste, previsoes)\n",
        "RMSE = sqrt(MSE)\n",
        "MAE = mean_absolute_error(preco_real_teste, previsoes)\n",
        "\n",
        "print('MSE ', MSE, ' RMSE ', RMSE, ' MAE ', MAE)"
      ],
      "execution_count": 134,
      "outputs": [
        {
          "output_type": "stream",
          "text": [
            "MSE  0.31894104562738873  RMSE  0.5647486570390307  MAE  0.495553876825506\n"
          ],
          "name": "stdout"
        }
      ]
    },
    {
      "cell_type": "code",
      "metadata": {
        "id": "6TRY_uQzJlLz",
        "colab_type": "code",
        "colab": {}
      },
      "source": [
        "modelo_acao_petrobras_json = modelo_acao_petrobras.to_json()\n",
        "with open('modelo.json', 'w') as arquivo_json:\n",
        "  arquivo_json.write(modelo_acao_petrobras_json)"
      ],
      "execution_count": 135,
      "outputs": []
    },
    {
      "cell_type": "code",
      "metadata": {
        "id": "_eB9lZoWKLWp",
        "colab_type": "code",
        "colab": {}
      },
      "source": [
        "modelo_acao_petrobras.save_weights('modelo.h5')"
      ],
      "execution_count": 136,
      "outputs": []
    }
  ]
}